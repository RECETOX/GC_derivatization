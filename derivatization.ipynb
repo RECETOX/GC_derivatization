{
 "cells": [
  {
   "cell_type": "code",
   "execution_count": null,
   "metadata": {},
   "outputs": [],
   "source": [
    "from rdkit import Chem\n",
    "from rdkit.Chem import AllChem\n",
    "from rdkit.Chem.Draw import IPythonConsole\n",
    "from copy import deepcopy\n",
    "import random\n",
    "\n",
    "IPythonConsole.drawOptions.addAtomIndices = True\n",
    "IPythonConsole.molSize = 200,200\n",
    "\n",
    "random.seed(42)"
   ]
  },
  {
   "cell_type": "code",
   "execution_count": null,
   "metadata": {},
   "outputs": [],
   "source": [
    "smi_file='NIST_Si_100.txt'"
   ]
  },
  {
   "cell_type": "code",
   "execution_count": null,
   "metadata": {},
   "outputs": [],
   "source": [
    "tms = '[Si]([CH3])([CH3])[CH3]'\n",
    "\n",
    "# XXX: ~[O,N,S] would match more than we aim to (-O, -S, -N, =N) but it's unlikely to happen\n",
    "tms_match = Chem.MolFromSmarts('*~[O,N,S]' + tms)\n",
    "tms_match0 = Chem.MolFromSmarts('[#0]([CH3])([CH3])[CH3]')\n",
    "\n",
    "def is_derivatized(m):\n",
    "    return m.HasSubstructMatch(tms_match)\n",
    "\n",
    "def remove_derivatization_groups(m):\n",
    "    em = deepcopy(m)\n",
    "    matches = em.GetSubstructMatches(tms_match)\n",
    "    for ma in matches:\n",
    "        em.GetAtomWithIdx(ma[2]).SetAtomicNum(0)\n",
    "    \n",
    "    return AllChem.DeleteSubstructs(em,tms_match0)\n",
    "\n",
    "_subs = [\n",
    " ('[OH]', [200], [.95]),\n",
    " ('[SH]', [201], [.80]),\n",
    "# matches also imine\n",
    " ('[NH]', [202], [.50]),\n",
    " ('[NH2]', [203,202], [.25, .5]),  \n",
    "]\n",
    "\n",
    "_repls = {\n",
    "    200: 'O'+tms,\n",
    "    201: 'S'+tms,\n",
    "    202: 'N'+tms,\n",
    "    203: f'N({tms}){tms}',\n",
    "}\n",
    "\n",
    "subs=[]\n",
    "for pat,repls,probs in _subs:\n",
    "    spat = Chem.MolFromSmarts(pat)\n",
    "    subs.append((spat,repls,probs))\n",
    "\n",
    "repls = zip(\n",
    "    map(lambda n: Chem.MolFromSmarts(f'[#{n}]'),_repls),\n",
    "    map(Chem.MolFromSmiles,_repls.values())\n",
    ")\n",
    "\n",
    "\n",
    "def add_derivatization_groups(m):\n",
    "    em = deepcopy(m)\n",
    "    \n",
    "    n = 200\n",
    "    for pat,reps,probs in subs:\n",
    "        matches = em.GetSubstructMatches(tms_match)\n",
    "        for m in matches:\n",
    "            r = random.random()\n",
    "            r = 0\n",
    "            for repl,prob in zip(reps,probs):\n",
    "                if r < prob: \n",
    "                    em.GetAtomWithIdx(m[0]).SetAtomicNum(repl)\n",
    "                    break\n",
    "    \n",
    "    for pat,repl in repls:\n",
    " #       print(pat,repl,em)\n",
    "        em, = AllChem.ReplaceSubstructs(em,pat,repl)\n",
    "        \n",
    "    return em    "
   ]
  },
  {
   "cell_type": "code",
   "execution_count": null,
   "metadata": {},
   "outputs": [],
   "source": [
    "#test_smi='CCO[Si](C)(C)C'\n",
    "test_smi='C[Si](C)(C)OCC=N[Si](C)(C)C'\n",
    "test_m = Chem.MolFromSmiles(test_smi)\n",
    "Chem.AddHs(test_m)"
   ]
  },
  {
   "cell_type": "code",
   "execution_count": null,
   "metadata": {},
   "outputs": [],
   "source": [
    "test_n = remove_derivatization_groups(test_m)\n",
    "Chem.AddHs(test_n)"
   ]
  },
  {
   "cell_type": "code",
   "execution_count": null,
   "metadata": {},
   "outputs": [],
   "source": [
    "add_derivatization_groups(test_n)"
   ]
  },
  {
   "cell_type": "code",
   "execution_count": null,
   "metadata": {},
   "outputs": [],
   "source": [
    "repls"
   ]
  },
  {
   "cell_type": "code",
   "execution_count": null,
   "metadata": {},
   "outputs": [],
   "source": [
    "mols={}\n",
    "with open(smi_file) as f:\n",
    "    for smi in f:\n",
    "        m = Chem.MolFromSmiles(smi)\n",
    "        if m: mols[smi.rstrip()] = m\n",
    "        "
   ]
  },
  {
   "cell_type": "code",
   "execution_count": null,
   "metadata": {},
   "outputs": [],
   "source": [
    "print(\"# total:\", len(mols))\n",
    "print(\"# derivatized:\", sum(map(is_derivatized,mols.values())))"
   ]
  },
  {
   "cell_type": "code",
   "execution_count": null,
   "metadata": {},
   "outputs": [],
   "source": [
    "noderiv = {}\n",
    "for smi in mols.keys():\n",
    "    if is_derivatized(mols[smi]):\n",
    "        n = remove_derivatization_groups(mols[smi])\n",
    "        noderiv[Chem.MolToSmiles(n)] = n\n",
    "        print(smi,\"=>\", Chem.MolToSmiles(n))\n",
    "    else:\n",
    "        noderiv[smi] = mols[smi]"
   ]
  },
  {
   "cell_type": "code",
   "execution_count": null,
   "metadata": {},
   "outputs": [],
   "source": [
    "m = Chem.MolFromSmiles('C=N')\n",
    "m"
   ]
  },
  {
   "cell_type": "code",
   "execution_count": null,
   "metadata": {},
   "outputs": [],
   "source": [
    "p = Chem.MolFromSmarts('*=N')"
   ]
  },
  {
   "cell_type": "code",
   "execution_count": null,
   "metadata": {},
   "outputs": [],
   "source": [
    "m.HasSubstructMatch(p)"
   ]
  },
  {
   "cell_type": "code",
   "execution_count": null,
   "metadata": {},
   "outputs": [],
   "source": [
    "(1,2,3)[:-1]"
   ]
  },
  {
   "cell_type": "code",
   "execution_count": null,
   "metadata": {},
   "outputs": [],
   "source": [
    "a = Chem.MolFromSmiles('C[OH]')\n",
    "a.GetAtomWithIdx(2).SetAtomicNum(2)"
   ]
  },
  {
   "cell_type": "code",
   "execution_count": null,
   "metadata": {},
   "outputs": [],
   "source": [
    "Chem.MolToSmiles(Chem.AddHs(a))"
   ]
  },
  {
   "cell_type": "code",
   "execution_count": null,
   "metadata": {},
   "outputs": [],
   "source": [
    "Chem.AddHs(a)"
   ]
  },
  {
   "cell_type": "code",
   "execution_count": null,
   "metadata": {},
   "outputs": [],
   "source": [
    "subs"
   ]
  },
  {
   "cell_type": "code",
   "execution_count": null,
   "metadata": {},
   "outputs": [],
   "source": []
  }
 ],
 "metadata": {
  "kernelspec": {
   "display_name": "Python 3",
   "language": "python",
   "name": "python3"
  },
  "language_info": {
   "codemirror_mode": {
    "name": "ipython",
    "version": 3
   },
   "file_extension": ".py",
   "mimetype": "text/x-python",
   "name": "python",
   "nbconvert_exporter": "python",
   "pygments_lexer": "ipython3",
   "version": "3.8.10"
  }
 },
 "nbformat": 4,
 "nbformat_minor": 4
}

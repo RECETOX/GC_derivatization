{
 "cells": [
  {
   "cell_type": "code",
   "execution_count": 1,
   "metadata": {},
   "outputs": [
    {
     "name": "stderr",
     "output_type": "stream",
     "text": [
      "RDKit WARNING: [18:42:44] Enabling RDKit 2019.09.1 jupyter extensions\n"
     ]
    }
   ],
   "source": [
    "from rdkit import Chem\n",
    "from rdkit.Chem import AllChem\n",
    "from rdkit.Chem.Draw import IPythonConsole\n",
    "from copy import deepcopy\n",
    "import random\n",
    "\n",
    "IPythonConsole.drawOptions.addAtomIndices = True\n",
    "IPythonConsole.molSize = 200,200\n",
    "\n",
    "random.seed(42)"
   ]
  },
  {
   "cell_type": "code",
   "execution_count": 2,
   "metadata": {},
   "outputs": [],
   "source": [
    "import py3Dmol\n",
    "\n",
    "def drawit(m,dimensions=(500,300),p=None,confId=-1):\n",
    "    mb = Chem.MolToMolBlock(m,confId=confId)\n",
    "    if p is None:\n",
    "        p = py3Dmol.view(width=dimensions[0],height=dimensions[1])\n",
    "    p.removeAllModels()\n",
    "    p.addModel(mb,'sdf')\n",
    "    p.setStyle({'stick':{}})\n",
    "    p.setBackgroundColor('0xeeeeee')\n",
    "    p.zoomTo()\n",
    "    return p.show()"
   ]
  },
  {
   "cell_type": "code",
   "execution_count": 3,
   "metadata": {},
   "outputs": [],
   "source": [
    "#smi_file='NIST_Si_100.txt'\n",
    "smi_file='NIST_Si_all.txt'\n",
    "mols={}\n",
    "with open(smi_file) as f:\n",
    "    for smi in f:\n",
    "        m = Chem.MolFromSmiles(smi)\n",
    "        if m: mols[smi.rstrip()] = m"
   ]
  },
  {
   "cell_type": "code",
   "execution_count": 4,
   "metadata": {},
   "outputs": [
    {
     "name": "stdout",
     "output_type": "stream",
     "text": [
      "# total 16510\n",
      "# with SiMe: 13533\n",
      "# with SiMe2: 12491\n",
      "# with SiMe3: 7098\n",
      "# with ONSSi: 5919\n",
      "# with MeOX: 254\n"
     ]
    }
   ],
   "source": [
    "SiMe1=Chem.MolFromSmarts('[Si][CH3]')\n",
    "SiMe2=Chem.MolFromSmarts('[Si]([CH3])[CH3]')\n",
    "SiMe3=Chem.MolFromSmarts('[Si]([CH3])([CH3])[CH3]')\n",
    "ONSSi=Chem.MolFromSmarts('[O,N,S][Si]([CH3])([CH3])[CH3]')\n",
    "\n",
    "print('# total',len(mols))\n",
    "with_sime1 = list(filter(lambda m: m.HasSubstructMatch(SiMe1),mols.values()))\n",
    "print(\"# with SiMe:\", len(with_sime1))\n",
    "with_sime2 = list(filter(lambda m: m.HasSubstructMatch(SiMe2),mols.values()))\n",
    "print(\"# with SiMe2:\", len(with_sime2))\n",
    "with_sime3 = list(filter(lambda m: m.HasSubstructMatch(SiMe3),mols.values()))\n",
    "print(\"# with SiMe3:\", len(with_sime3))\n",
    "with_onssi = list(filter(lambda m: m.HasSubstructMatch(ONSSi),mols.values()))\n",
    "print(\"# with ONSSi:\", len(with_onssi))\n",
    "\n",
    "MeOX=Chem.MolFromSmarts('C=NO[CH3]')\n",
    "with_meox = list(filter(lambda m: m.HasSubstructMatch(MeOX),mols.values()))\n",
    "print(\"# with MeOX:\", len(with_meox))\n",
    "\n",
    "\n"
   ]
  },
  {
   "cell_type": "code",
   "execution_count": 5,
   "metadata": {},
   "outputs": [
    {
     "data": {
      "image/png": "[encoded data removed]",
      "text/plain": [
       "<rdkit.Chem.rdchem.Mol at 0x7f72f8c0b460>"
      ]
     },
     "execution_count": 5,
     "metadata": {},
     "output_type": "execute_result"
    }
   ],
   "source": [
    "with_sime2[7000]"
   ]
  },
  {
   "cell_type": "code",
   "execution_count": 20,
   "metadata": {},
   "outputs": [
    {
     "data": {
      "image/png": "[encoded data removed]",
      "text/plain": [
       "<rdkit.Chem.rdchem.Mol at 0x7f72f8ac99a0>"
      ]
     },
     "execution_count": 20,
     "metadata": {},
     "output_type": "execute_result"
    }
   ],
   "source": [
    "with_onssi[5230]"
   ]
  },
  {
   "cell_type": "code",
   "execution_count": 7,
   "metadata": {},
   "outputs": [
    {
     "data": {
      "image/png": "[encoded data removed]",
      "text/plain": [
       "<rdkit.Chem.rdchem.Mol at 0x7f72f8bf5ca0>"
      ]
     },
     "execution_count": 7,
     "metadata": {},
     "output_type": "execute_result"
    }
   ],
   "source": [
    "with_meox[42]"
   ]
  },
  {
   "cell_type": "code",
   "execution_count": 8,
   "metadata": {},
   "outputs": [],
   "source": [
    "with open('NIST_ONSSiMe3.txt','w') as f:\n",
    "    for m in with_onssi:\n",
    "        f.write(Chem.MolToSmiles(m)+'\\n')\n",
    "        \n",
    "with open('NIST_SiMe3.txt','w') as f:\n",
    "    for m in with_sime3:\n",
    "        f.write(Chem.MolToSmiles(m)+'\\n')\n",
    "        \n",
    "with open('NIST_MeOX.txt','w') as f:\n",
    "    for m in with_meox:\n",
    "        f.write(Chem.MolToSmiles(m)+'\\n')"
   ]
  },
  {
   "cell_type": "code",
   "execution_count": 9,
   "metadata": {},
   "outputs": [],
   "source": [
    "tms = '[Si]([CH3])([CH3])[CH3]'\n",
    "\n",
    "# XXX: ~[O,N,S] would match more than we aim to (-O, -S, -N, =N) but it's unlikely to happen\n",
    "tms_match = Chem.MolFromSmarts('*~[O,N,S]' + tms)\n",
    "tms_match0 = Chem.MolFromSmarts('[#0]([CH3])([CH3])[CH3]')\n",
    "\n",
    "def is_derivatized(m):\n",
    "    return m.HasSubstructMatch(tms_match)\n",
    "\n",
    "def remove_derivatization_groups(m):\n",
    "    em = deepcopy(m)\n",
    "    matches = em.GetSubstructMatches(tms_match)\n",
    "    for ma in matches:\n",
    "        em.GetAtomWithIdx(ma[2]).SetAtomicNum(0)\n",
    "    \n",
    "    return AllChem.DeleteSubstructs(em,tms_match0)\n",
    "\n",
    "_subs = [\n",
    " ('[OH]', [100], [.95]),\n",
    " ('[SH]', [101], [.80]),\n",
    "# matches also imine\n",
    " ('[NH]', [102], [.50]),\n",
    " ('[NH2]', [103,102], [.25, .5]),  \n",
    "]\n",
    "\n",
    "_repls = {\n",
    "    100: 'O'+tms,\n",
    "    101: 'S'+tms,\n",
    "    102: 'N'+tms,\n",
    "    103: f'N({tms}){tms}',\n",
    "}\n",
    "\n",
    "subs=[]\n",
    "for pat,repls,probs in _subs:\n",
    "    spat = Chem.MolFromSmarts(pat)\n",
    "    subs.append((spat,repls,probs))\n",
    "\n",
    "repls = list(zip(\n",
    "    map(lambda n: Chem.MolFromSmarts(f'[#{n}]'),_repls),\n",
    "    map(Chem.MolFromSmiles,_repls.values())\n",
    "))\n",
    "\n",
    "\n",
    "def add_derivatization_groups(m):\n",
    "    em = deepcopy(m)\n",
    "    \n",
    "    n = 200\n",
    "    for pat,reps,probs in subs:\n",
    "        matches = em.GetSubstructMatches(pat)\n",
    "#        print(matches)\n",
    "        for m in matches:\n",
    "            r = random.random()\n",
    "            for repl,prob in zip(reps,probs):\n",
    "                if r < prob: \n",
    "                    em.GetAtomWithIdx(m[0]).SetAtomicNum(repl)\n",
    "                    break\n",
    "    \n",
    "    for pat,repl in repls:\n",
    "#       print(Chem.MolToSmiles(pat),Chem.MolToSmiles(repl),Chem.MolToSmiles(em))\n",
    "        em, = AllChem.ReplaceSubstructs(em,pat,repl)\n",
    "        \n",
    "    Chem.SanitizeMol(em)\n",
    "    return em    "
   ]
  },
  {
   "cell_type": "code",
   "execution_count": 35,
   "metadata": {},
   "outputs": [
    {
     "data": {
      "image/png": "[encoded data removed]",
      "text/plain": [
       "<rdkit.Chem.rdchem.Mol at 0x7f72f88704c0>"
      ]
     },
     "execution_count": 35,
     "metadata": {},
     "output_type": "execute_result"
    }
   ],
   "source": [
    "#test_smi='CCO[Si](C)(C)C'\n",
    "#test_smi='C[Si](C)(C)OCC-N[Si](C)(C)C'\n",
    "#test_m = Chem.MolFromSmiles(test_smi)\n",
    "test_m = with_onssi[3589]\n",
    "Chem.AddHs(test_m)"
   ]
  },
  {
   "cell_type": "code",
   "execution_count": 36,
   "metadata": {},
   "outputs": [
    {
     "data": {
      "image/png": "[encoded data removed]",
      "text/plain": [
       "<rdkit.Chem.rdchem.Mol at 0x7f72f8861d60>"
      ]
     },
     "execution_count": 36,
     "metadata": {},
     "output_type": "execute_result"
    }
   ],
   "source": [
    "test_n = remove_derivatization_groups(test_m)\n",
    "Chem.AddHs(test_n)"
   ]
  },
  {
   "cell_type": "code",
   "execution_count": 37,
   "metadata": {},
   "outputs": [
    {
     "ename": "ValueError",
     "evalue": "too many values to unpack (expected 1)",
     "output_type": "error",
     "traceback": [
      "\u001b[0;31m---------------------------------------------------------------------------\u001b[0m",
      "\u001b[0;31mValueError\u001b[0m                                Traceback (most recent call last)",
      "\u001b[0;32m<ipython-input-37-c5f9082da221>\u001b[0m in \u001b[0;36m<module>\u001b[0;34m\u001b[0m\n\u001b[0;32m----> 1\u001b[0;31m \u001b[0mtest_d\u001b[0m \u001b[0;34m=\u001b[0m \u001b[0madd_derivatization_groups\u001b[0m\u001b[0;34m(\u001b[0m\u001b[0mtest_n\u001b[0m\u001b[0;34m)\u001b[0m\u001b[0;34m\u001b[0m\u001b[0;34m\u001b[0m\u001b[0m\n\u001b[0m\u001b[1;32m      2\u001b[0m \u001b[0mtest_d\u001b[0m\u001b[0;34m\u001b[0m\u001b[0;34m\u001b[0m\u001b[0m\n",
      "\u001b[0;32m<ipython-input-9-81363bda04f7>\u001b[0m in \u001b[0;36madd_derivatization_groups\u001b[0;34m(m)\u001b[0m\n\u001b[1;32m     58\u001b[0m     \u001b[0;32mfor\u001b[0m \u001b[0mpat\u001b[0m\u001b[0;34m,\u001b[0m\u001b[0mrepl\u001b[0m \u001b[0;32min\u001b[0m \u001b[0mrepls\u001b[0m\u001b[0;34m:\u001b[0m\u001b[0;34m\u001b[0m\u001b[0;34m\u001b[0m\u001b[0m\n\u001b[1;32m     59\u001b[0m \u001b[0;31m#       print(Chem.MolToSmiles(pat),Chem.MolToSmiles(repl),Chem.MolToSmiles(em))\u001b[0m\u001b[0;34m\u001b[0m\u001b[0;34m\u001b[0m\u001b[0;34m\u001b[0m\u001b[0m\n\u001b[0;32m---> 60\u001b[0;31m         \u001b[0mem\u001b[0m\u001b[0;34m,\u001b[0m \u001b[0;34m=\u001b[0m \u001b[0mAllChem\u001b[0m\u001b[0;34m.\u001b[0m\u001b[0mReplaceSubstructs\u001b[0m\u001b[0;34m(\u001b[0m\u001b[0mem\u001b[0m\u001b[0;34m,\u001b[0m\u001b[0mpat\u001b[0m\u001b[0;34m,\u001b[0m\u001b[0mrepl\u001b[0m\u001b[0;34m)\u001b[0m\u001b[0;34m\u001b[0m\u001b[0;34m\u001b[0m\u001b[0m\n\u001b[0m\u001b[1;32m     61\u001b[0m \u001b[0;34m\u001b[0m\u001b[0m\n\u001b[1;32m     62\u001b[0m     \u001b[0mChem\u001b[0m\u001b[0;34m.\u001b[0m\u001b[0mSanitizeMol\u001b[0m\u001b[0;34m(\u001b[0m\u001b[0mem\u001b[0m\u001b[0;34m)\u001b[0m\u001b[0;34m\u001b[0m\u001b[0;34m\u001b[0m\u001b[0m\n",
      "\u001b[0;31mValueError\u001b[0m: too many values to unpack (expected 1)"
     ]
    }
   ],
   "source": [
    "test_d = add_derivatization_groups(test_n)\n",
    "test_d"
   ]
  },
  {
   "cell_type": "code",
   "execution_count": 18,
   "metadata": {},
   "outputs": [
    {
     "data": {
      "application/3dmoljs_load.v0": "<div id=\"3dmolviewer_16456382816047022\"  style=\"position: relative; width: 500px; height: 300px\">\n        <p id=\"3dmolwarning_16456382816047022\" style=\"background-color:#ffcccc;color:black\">You appear to be running in JupyterLab (or JavaScript failed to load for some other reason).  You need to install the 3dmol extension: <br>\n        <tt>jupyter labextension install jupyterlab_3dmol</tt></p>\n        </div>\n<script>\n\nvar loadScriptAsync = function(uri){\n  return new Promise((resolve, reject) => {\n    var tag = document.createElement('script');\n    tag.src = uri;\n    tag.async = true;\n    tag.onload = () => {\n      resolve();\n    };\n  var firstScriptTag = document.getElementsByTagName('script')[0];\n  firstScriptTag.parentNode.insertBefore(tag, firstScriptTag);\n});\n};\n\nif(typeof $3Dmolpromise === 'undefined') {\n$3Dmolpromise = null;\n  $3Dmolpromise = loadScriptAsync('https://3dmol.org/build/3Dmol.js');\n}\n\nvar viewer_16456382816047022 = null;\nvar warn = document.getElementById(\"3dmolwarning_16456382816047022\");\nif(warn) {\n    warn.parentNode.removeChild(warn);\n}\n$3Dmolpromise.then(function() {\nviewer_16456382816047022 = $3Dmol.createViewer($(\"#3dmolviewer_16456382816047022\"),{backgroundColor:\"white\"});\nviewer_16456382816047022.zoomTo();\n\tviewer_16456382816047022.removeAllModels();\n\tviewer_16456382816047022.addModel(\"\\n     RDKit          3D\\n\\n 16 15  0  0  0  0  0  0  0  0999 V2000\\n    1.3258   -0.3949   -0.2243 C   0  0  0  0  0  0  0  0  0  0  0  0\\n   -0.0346   -0.3255   -0.8986 C   0  0  0  0  0  0  0  0  0  0  0  0\\n    2.2561    0.3759   -0.9725 O   0  0  0  0  0  0  0  0  0  0  0  0\\n    3.5061    1.0272   -0.0687 Si  0  0  0  0  0  4  0  0  0  0  0  0\\n    4.6340    2.0142   -1.1640 C   0  0  0  0  0  0  0  0  0  0  0  0\\n    4.5001   -0.3180    0.7367 C   0  0  0  0  0  0  0  0  0  0  0  0\\n    2.8433    2.1492    1.2533 C   0  0  0  0  0  0  0  0  0  0  0  0\\n   -1.1238   -0.4697    0.0751 N   0  0  0  0  0  0  0  0  0  0  0  0\\n   -2.0121    0.9389    0.5362 Si  0  0  0  0  0  4  0  0  0  0  0  0\\n   -3.3357    1.3116   -0.7016 C   0  0  0  0  0  0  0  0  0  0  0  0\\n   -0.8255    2.3720    0.5654 C   0  0  0  0  0  0  0  0  0  0  0  0\\n   -2.7330    0.7847    2.2324 C   0  0  0  0  0  0  0  0  0  0  0  0\\n   -2.0317   -1.9386    0.0926 Si  0  0  0  0  0  4  0  0  0  0  0  0\\n   -2.8049   -2.2718    1.7387 C   0  0  0  0  0  0  0  0  0  0  0  0\\n   -3.3167   -1.9242   -1.2384 C   0  0  0  0  0  0  0  0  0  0  0  0\\n   -0.8475   -3.3310   -0.2586 C   0  0  0  0  0  0  0  0  0  0  0  0\\n  1  2  1  0\\n  3  4  1  0\\n  4  5  1  0\\n  4  6  1  0\\n  4  7  1  0\\n  3  1  1  0\\n  8  9  1  0\\n  9 10  1  0\\n  9 11  1  0\\n  9 12  1  0\\n  8 13  1  0\\n 13 14  1  0\\n 13 15  1  0\\n 13 16  1  0\\n  8  2  1  0\\nM  END\\n\",\"sdf\");\n\tviewer_16456382816047022.setStyle({\"stick\": {}});\n\tviewer_16456382816047022.setBackgroundColor(\"0xeeeeee\");\n\tviewer_16456382816047022.zoomTo();\nviewer_16456382816047022.render();\n});\n</script>",
      "text/html": [
       "<div id=\"3dmolviewer_16456382816047022\"  style=\"position: relative; width: 500px; height: 300px\">\n",
       "        <p id=\"3dmolwarning_16456382816047022\" style=\"background-color:#ffcccc;color:black\">You appear to be running in JupyterLab (or JavaScript failed to load for some other reason).  You need to install the 3dmol extension: <br>\n",
       "        <tt>jupyter labextension install jupyterlab_3dmol</tt></p>\n",
       "        </div>\n",
       "<script>\n",
       "\n",
       "var loadScriptAsync = function(uri){\n",
       "  return new Promise((resolve, reject) => {\n",
       "    var tag = document.createElement('script');\n",
       "    tag.src = uri;\n",
       "    tag.async = true;\n",
       "    tag.onload = () => {\n",
       "      resolve();\n",
       "    };\n",
       "  var firstScriptTag = document.getElementsByTagName('script')[0];\n",
       "  firstScriptTag.parentNode.insertBefore(tag, firstScriptTag);\n",
       "});\n",
       "};\n",
       "\n",
       "if(typeof $3Dmolpromise === 'undefined') {\n",
       "$3Dmolpromise = null;\n",
       "  $3Dmolpromise = loadScriptAsync('https://3dmol.org/build/3Dmol.js');\n",
       "}\n",
       "\n",
       "var viewer_16456382816047022 = null;\n",
       "var warn = document.getElementById(\"3dmolwarning_16456382816047022\");\n",
       "if(warn) {\n",
       "    warn.parentNode.removeChild(warn);\n",
       "}\n",
       "$3Dmolpromise.then(function() {\n",
       "viewer_16456382816047022 = $3Dmol.createViewer($(\"#3dmolviewer_16456382816047022\"),{backgroundColor:\"white\"});\n",
       "viewer_16456382816047022.zoomTo();\n",
       "\tviewer_16456382816047022.removeAllModels();\n",
       "\tviewer_16456382816047022.addModel(\"\\n     RDKit          3D\\n\\n 16 15  0  0  0  0  0  0  0  0999 V2000\\n    1.3258   -0.3949   -0.2243 C   0  0  0  0  0  0  0  0  0  0  0  0\\n   -0.0346   -0.3255   -0.8986 C   0  0  0  0  0  0  0  0  0  0  0  0\\n    2.2561    0.3759   -0.9725 O   0  0  0  0  0  0  0  0  0  0  0  0\\n    3.5061    1.0272   -0.0687 Si  0  0  0  0  0  4  0  0  0  0  0  0\\n    4.6340    2.0142   -1.1640 C   0  0  0  0  0  0  0  0  0  0  0  0\\n    4.5001   -0.3180    0.7367 C   0  0  0  0  0  0  0  0  0  0  0  0\\n    2.8433    2.1492    1.2533 C   0  0  0  0  0  0  0  0  0  0  0  0\\n   -1.1238   -0.4697    0.0751 N   0  0  0  0  0  0  0  0  0  0  0  0\\n   -2.0121    0.9389    0.5362 Si  0  0  0  0  0  4  0  0  0  0  0  0\\n   -3.3357    1.3116   -0.7016 C   0  0  0  0  0  0  0  0  0  0  0  0\\n   -0.8255    2.3720    0.5654 C   0  0  0  0  0  0  0  0  0  0  0  0\\n   -2.7330    0.7847    2.2324 C   0  0  0  0  0  0  0  0  0  0  0  0\\n   -2.0317   -1.9386    0.0926 Si  0  0  0  0  0  4  0  0  0  0  0  0\\n   -2.8049   -2.2718    1.7387 C   0  0  0  0  0  0  0  0  0  0  0  0\\n   -3.3167   -1.9242   -1.2384 C   0  0  0  0  0  0  0  0  0  0  0  0\\n   -0.8475   -3.3310   -0.2586 C   0  0  0  0  0  0  0  0  0  0  0  0\\n  1  2  1  0\\n  3  4  1  0\\n  4  5  1  0\\n  4  6  1  0\\n  4  7  1  0\\n  3  1  1  0\\n  8  9  1  0\\n  9 10  1  0\\n  9 11  1  0\\n  9 12  1  0\\n  8 13  1  0\\n 13 14  1  0\\n 13 15  1  0\\n 13 16  1  0\\n  8  2  1  0\\nM  END\\n\",\"sdf\");\n",
       "\tviewer_16456382816047022.setStyle({\"stick\": {}});\n",
       "\tviewer_16456382816047022.setBackgroundColor(\"0xeeeeee\");\n",
       "\tviewer_16456382816047022.zoomTo();\n",
       "viewer_16456382816047022.render();\n",
       "});\n",
       "</script>"
      ]
     },
     "metadata": {},
     "output_type": "display_data"
    }
   ],
   "source": [
    "AllChem.EmbedMultipleConfs(test_d, clearConfs=True, numConfs=50)\n",
    "AllChem.MMFFOptimizeMoleculeConfs(test_d)\n",
    "drawit(test_d)"
   ]
  },
  {
   "cell_type": "code",
   "execution_count": null,
   "metadata": {},
   "outputs": [],
   "source": [
    "print(\"# total:\", len(mols))\n",
    "#print(\"# derivatized:\", sum(map(is_derivatized,mols.values())))"
   ]
  },
  {
   "cell_type": "code",
   "execution_count": null,
   "metadata": {},
   "outputs": [],
   "source": [
    "noderiv = {}\n",
    "for smi in mols.keys():\n",
    "    if is_derivatized(mols[smi]):\n",
    "        n = remove_derivatization_groups(mols[smi])\n",
    "        noderiv[Chem.MolToSmiles(n)] = n\n",
    "        print(smi,\"=>\", Chem.MolToSmiles(n))\n",
    "    else:\n",
    "        noderiv[smi] = mols[smi]"
   ]
  },
  {
   "cell_type": "code",
   "execution_count": null,
   "metadata": {},
   "outputs": [],
   "source": [
    "m = Chem.MolFromSmiles('C=N')\n",
    "m"
   ]
  },
  {
   "cell_type": "code",
   "execution_count": null,
   "metadata": {},
   "outputs": [],
   "source": [
    "p = Chem.MolFromSmarts('*=N')"
   ]
  },
  {
   "cell_type": "code",
   "execution_count": null,
   "metadata": {},
   "outputs": [],
   "source": [
    "m.HasSubstructMatch(p)"
   ]
  },
  {
   "cell_type": "code",
   "execution_count": null,
   "metadata": {},
   "outputs": [],
   "source": [
    "(1,2,3)[:-1]"
   ]
  },
  {
   "cell_type": "code",
   "execution_count": null,
   "metadata": {},
   "outputs": [],
   "source": [
    "a = Chem.MolFromSmiles('C[OH]')\n",
    "a.GetAtomWithIdx(2).SetAtomicNum(2)"
   ]
  },
  {
   "cell_type": "code",
   "execution_count": null,
   "metadata": {},
   "outputs": [],
   "source": [
    "Chem.MolToSmiles(Chem.AddHs(a))"
   ]
  },
  {
   "cell_type": "code",
   "execution_count": null,
   "metadata": {},
   "outputs": [],
   "source": [
    "Chem.AddHs(a)"
   ]
  },
  {
   "cell_type": "code",
   "execution_count": null,
   "metadata": {},
   "outputs": [],
   "source": [
    "subs"
   ]
  },
  {
   "cell_type": "code",
   "execution_count": 5,
   "metadata": {},
   "outputs": [
    {
     "data": {
      "image/png": "[encoded data removed]",
      "text/plain": [
       "<rdkit.Chem.rdchem.Mol at 0x7f6c670d3d00>"
      ]
     },
     "execution_count": 5,
     "metadata": {},
     "output_type": "execute_result"
    }
   ],
   "source": [
    "con = Chem.AddHs(mols[list(mols.keys())[2815]])\n",
    "con"
   ]
  },
  {
   "cell_type": "code",
   "execution_count": 6,
   "metadata": {},
   "outputs": [],
   "source": [
    "AllChem.EmbedMultipleConfs(con, clearConfs=True, numConfs=50)\n",
    "opt = AllChem.MMFFOptimizeMoleculeConfs(con)"
   ]
  },
  {
   "cell_type": "code",
   "execution_count": 7,
   "metadata": {},
   "outputs": [
    {
     "data": {
      "text/plain": [
       "[(0, 22.76892921051678),\n",
       " (0, 18.376920381092486),\n",
       " (0, 19.758891189608477),\n",
       " (0, 18.37692038719296),\n",
       " (0, 21.449627600115793),\n",
       " (0, 19.654234885479795),\n",
       " (0, 19.220313450312517),\n",
       " (1, 17.70757820802174),\n",
       " (0, 15.564683185657806),\n",
       " (0, 15.86910927709349),\n",
       " (0, 18.37692038352144),\n",
       " (0, 17.718578026558564),\n",
       " (1, 17.702410460394823),\n",
       " (0, 19.220313432561404),\n",
       " (0, 15.564683184822144),\n",
       " (0, 19.533099106730983),\n",
       " (1, 15.870248295473651),\n",
       " (0, 15.869109288777372),\n",
       " (0, 15.869109276890304),\n",
       " (1, 18.891564055494122),\n",
       " (1, 15.869113853619321),\n",
       " (0, 23.561008170480232),\n",
       " (1, 21.68851296701341),\n",
       " (0, 19.758891190567983),\n",
       " (1, 18.881494604892453),\n",
       " (0, 19.544748436807073),\n",
       " (0, 18.376920398040212),\n",
       " (0, 18.371689964654284),\n",
       " (0, 19.26718951558301),\n",
       " (0, 15.869109297885387),\n",
       " (0, 16.488681925985805),\n",
       " (0, 20.81344681701515),\n",
       " (0, 18.376920385110573),\n",
       " (0, 19.656400017870634),\n",
       " (0, 18.565093847100986),\n",
       " (1, 15.869113923272488),\n",
       " (1, 18.893792000921778),\n",
       " (1, 18.376922364061983),\n",
       " (1, 15.56468319289381),\n",
       " (0, 19.220313449868286),\n",
       " (0, 25.709851521711492),\n",
       " (0, 19.403218298733364),\n",
       " (1, 19.60874872133978),\n",
       " (0, 15.564683204499545),\n",
       " (0, 18.56509385751211),\n",
       " (0, 19.26718953638895),\n",
       " (0, 15.709581429385615),\n",
       " (0, 16.093116676245057),\n",
       " (0, 17.701888797637075),\n",
       " (0, 18.376920394048827)]"
      ]
     },
     "execution_count": 7,
     "metadata": {},
     "output_type": "execute_result"
    }
   ],
   "source": [
    "opt"
   ]
  },
  {
   "cell_type": "code",
   "execution_count": 10,
   "metadata": {},
   "outputs": [
    {
     "data": {
      "application/3dmoljs_load.v0": "<div id=\"3dmolviewer_16456358393949766\"  style=\"position: relative; width: 500px; height: 300px\">\n        <p id=\"3dmolwarning_16456358393949766\" style=\"background-color:#ffcccc;color:black\">You appear to be running in JupyterLab (or JavaScript failed to load for some other reason).  You need to install the 3dmol extension: <br>\n        <tt>jupyter labextension install jupyterlab_3dmol</tt></p>\n        </div>\n<script>\n\nvar loadScriptAsync = function(uri){\n  return new Promise((resolve, reject) => {\n    var tag = document.createElement('script');\n    tag.src = uri;\n    tag.async = true;\n    tag.onload = () => {\n      resolve();\n    };\n  var firstScriptTag = document.getElementsByTagName('script')[0];\n  firstScriptTag.parentNode.insertBefore(tag, firstScriptTag);\n});\n};\n\nif(typeof $3Dmolpromise === 'undefined') {\n$3Dmolpromise = null;\n  $3Dmolpromise = loadScriptAsync('https://3dmol.org/build/3Dmol.js');\n}\n\nvar viewer_16456358393949766 = null;\nvar warn = document.getElementById(\"3dmolwarning_16456358393949766\");\nif(warn) {\n    warn.parentNode.removeChild(warn);\n}\n$3Dmolpromise.then(function() {\nviewer_16456358393949766 = $3Dmol.createViewer($(\"#3dmolviewer_16456358393949766\"),{backgroundColor:\"white\"});\nviewer_16456358393949766.zoomTo();\n\tviewer_16456358393949766.removeAllModels();\n\tviewer_16456358393949766.addModel(\"\\n     RDKit          3D\\n\\n 45 44  0  0  0  0  0  0  0  0999 V2000\\n   -2.8970    2.3995    0.5932 C   0  0  0  0  0  0  0  0  0  0  0  0\\n   -2.3576    1.3241    1.5237 C   0  0  0  0  0  0  0  0  0  0  0  0\\n   -2.4682   -0.0909    0.9408 C   0  0  0  0  0  0  0  0  0  0  0  0\\n   -1.5001   -0.3741   -0.2284 C   0  0  0  0  0  0  0  0  0  0  0  0\\n   -1.7236   -1.7682   -0.8803 C   0  0  0  0  0  0  0  0  0  0  0  0\\n   -3.0693   -1.8597   -1.6021 C   0  0  0  0  0  0  0  0  0  0  0  0\\n   -1.5692   -2.9324    0.1034 C   0  0  0  0  0  0  0  0  0  0  0  0\\n   -0.1673   -0.3162    0.2988 O   0  0  0  0  0  0  0  0  0  0  0  0\\n    1.0759    0.4508   -0.5271 Si  0  0  0  0  0  4  0  0  0  0  0  0\\n    1.3996   -0.2992   -2.2140 C   0  0  0  0  0  0  0  0  0  0  0  0\\n    0.7999    2.2983   -0.6857 C   0  0  0  0  0  0  0  0  0  0  0  0\\n    2.8090    0.1880    0.6020 C   0  0  0  0  0  0  0  0  0  0  0  0\\n    2.5892    0.8264    1.9888 C   0  0  0  0  0  0  0  0  0  0  0  0\\n    3.9955    0.8614   -0.1129 C   0  0  0  0  0  0  0  0  0  0  0  0\\n    3.0671   -1.3251    0.7545 C   0  0  0  0  0  0  0  0  0  0  0  0\\n   -3.9410    2.2014    0.3303 H   0  0  0  0  0  0  0  0  0  0  0  0\\n   -2.3180    2.4652   -0.3310 H   0  0  0  0  0  0  0  0  0  0  0  0\\n   -2.8526    3.3770    1.0840 H   0  0  0  0  0  0  0  0  0  0  0  0\\n   -1.3211    1.5521    1.7942 H   0  0  0  0  0  0  0  0  0  0  0  0\\n   -2.9364    1.3580    2.4549 H   0  0  0  0  0  0  0  0  0  0  0  0\\n   -2.2509   -0.7858    1.7615 H   0  0  0  0  0  0  0  0  0  0  0  0\\n   -3.5055   -0.2622    0.6352 H   0  0  0  0  0  0  0  0  0  0  0  0\\n   -1.6474    0.3916   -1.0013 H   0  0  0  0  0  0  0  0  0  0  0  0\\n   -0.9436   -1.9062   -1.6395 H   0  0  0  0  0  0  0  0  0  0  0  0\\n   -3.1310   -2.7891   -2.1790 H   0  0  0  0  0  0  0  0  0  0  0  0\\n   -3.9112   -1.8516   -0.9033 H   0  0  0  0  0  0  0  0  0  0  0  0\\n   -3.1944   -1.0267   -2.3015 H   0  0  0  0  0  0  0  0  0  0  0  0\\n   -0.6053   -2.8918    0.6205 H   0  0  0  0  0  0  0  0  0  0  0  0\\n   -1.6172   -3.8893   -0.4281 H   0  0  0  0  0  0  0  0  0  0  0  0\\n   -2.3637   -2.9358    0.8563 H   0  0  0  0  0  0  0  0  0  0  0  0\\n    2.2547    0.1812   -2.6979 H   0  0  0  0  0  0  0  0  0  0  0  0\\n    1.6084   -1.3697   -2.1322 H   0  0  0  0  0  0  0  0  0  0  0  0\\n    0.5293   -0.1707   -2.8645 H   0  0  0  0  0  0  0  0  0  0  0  0\\n   -0.0593    2.5038   -1.3306 H   0  0  0  0  0  0  0  0  0  0  0  0\\n    1.6732    2.7877   -1.1259 H   0  0  0  0  0  0  0  0  0  0  0  0\\n    0.6090    2.7503    0.2916 H   0  0  0  0  0  0  0  0  0  0  0  0\\n    3.4721    0.6885    2.6233 H   0  0  0  0  0  0  0  0  0  0  0  0\\n    2.4038    1.9035    1.9117 H   0  0  0  0  0  0  0  0  0  0  0  0\\n    1.7345    0.3776    2.5076 H   0  0  0  0  0  0  0  0  0  0  0  0\\n    4.1674    0.4295   -1.1048 H   0  0  0  0  0  0  0  0  0  0  0  0\\n    3.8326    1.9371   -0.2407 H   0  0  0  0  0  0  0  0  0  0  0  0\\n    4.9178    0.7347    0.4655 H   0  0  0  0  0  0  0  0  0  0  0  0\\n    2.2253   -1.8298    1.2423 H   0  0  0  0  0  0  0  0  0  0  0  0\\n    3.9602   -1.5065    1.3631 H   0  0  0  0  0  0  0  0  0  0  0  0\\n    3.2266   -1.8066   -0.2166 H   0  0  0  0  0  0  0  0  0  0  0  0\\n  1  2  1  0\\n  2  3  1  0\\n  3  4  1  0\\n  4  5  1  0\\n  5  6  1  0\\n  5  7  1  0\\n  4  8  1  0\\n  8  9  1  0\\n  9 10  1  0\\n  9 11  1  0\\n  9 12  1  0\\n 12 13  1  0\\n 12 14  1  0\\n 12 15  1  0\\n  1 16  1  0\\n  1 17  1  0\\n  1 18  1  0\\n  2 19  1  0\\n  2 20  1  0\\n  3 21  1  0\\n  3 22  1  0\\n  4 23  1  0\\n  5 24  1  0\\n  6 25  1  0\\n  6 26  1  0\\n  6 27  1  0\\n  7 28  1  0\\n  7 29  1  0\\n  7 30  1  0\\n 10 31  1  0\\n 10 32  1  0\\n 10 33  1  0\\n 11 34  1  0\\n 11 35  1  0\\n 11 36  1  0\\n 13 37  1  0\\n 13 38  1  0\\n 13 39  1  0\\n 14 40  1  0\\n 14 41  1  0\\n 14 42  1  0\\n 15 43  1  0\\n 15 44  1  0\\n 15 45  1  0\\nM  END\\n\",\"sdf\");\n\tviewer_16456358393949766.setStyle({\"stick\": {}});\n\tviewer_16456358393949766.setBackgroundColor(\"0xeeeeee\");\n\tviewer_16456358393949766.zoomTo();\nviewer_16456358393949766.render();\n});\n</script>",
      "text/html": [
       "<div id=\"3dmolviewer_16456358393949766\"  style=\"position: relative; width: 500px; height: 300px\">\n",
       "        <p id=\"3dmolwarning_16456358393949766\" style=\"background-color:#ffcccc;color:black\">You appear to be running in JupyterLab (or JavaScript failed to load for some other reason).  You need to install the 3dmol extension: <br>\n",
       "        <tt>jupyter labextension install jupyterlab_3dmol</tt></p>\n",
       "        </div>\n",
       "<script>\n",
       "\n",
       "var loadScriptAsync = function(uri){\n",
       "  return new Promise((resolve, reject) => {\n",
       "    var tag = document.createElement('script');\n",
       "    tag.src = uri;\n",
       "    tag.async = true;\n",
       "    tag.onload = () => {\n",
       "      resolve();\n",
       "    };\n",
       "  var firstScriptTag = document.getElementsByTagName('script')[0];\n",
       "  firstScriptTag.parentNode.insertBefore(tag, firstScriptTag);\n",
       "});\n",
       "};\n",
       "\n",
       "if(typeof $3Dmolpromise === 'undefined') {\n",
       "$3Dmolpromise = null;\n",
       "  $3Dmolpromise = loadScriptAsync('https://3dmol.org/build/3Dmol.js');\n",
       "}\n",
       "\n",
       "var viewer_16456358393949766 = null;\n",
       "var warn = document.getElementById(\"3dmolwarning_16456358393949766\");\n",
       "if(warn) {\n",
       "    warn.parentNode.removeChild(warn);\n",
       "}\n",
       "$3Dmolpromise.then(function() {\n",
       "viewer_16456358393949766 = $3Dmol.createViewer($(\"#3dmolviewer_16456358393949766\"),{backgroundColor:\"white\"});\n",
       "viewer_16456358393949766.zoomTo();\n",
       "\tviewer_16456358393949766.removeAllModels();\n",
       "\tviewer_16456358393949766.addModel(\"\\n     RDKit          3D\\n\\n 45 44  0  0  0  0  0  0  0  0999 V2000\\n   -2.8970    2.3995    0.5932 C   0  0  0  0  0  0  0  0  0  0  0  0\\n   -2.3576    1.3241    1.5237 C   0  0  0  0  0  0  0  0  0  0  0  0\\n   -2.4682   -0.0909    0.9408 C   0  0  0  0  0  0  0  0  0  0  0  0\\n   -1.5001   -0.3741   -0.2284 C   0  0  0  0  0  0  0  0  0  0  0  0\\n   -1.7236   -1.7682   -0.8803 C   0  0  0  0  0  0  0  0  0  0  0  0\\n   -3.0693   -1.8597   -1.6021 C   0  0  0  0  0  0  0  0  0  0  0  0\\n   -1.5692   -2.9324    0.1034 C   0  0  0  0  0  0  0  0  0  0  0  0\\n   -0.1673   -0.3162    0.2988 O   0  0  0  0  0  0  0  0  0  0  0  0\\n    1.0759    0.4508   -0.5271 Si  0  0  0  0  0  4  0  0  0  0  0  0\\n    1.3996   -0.2992   -2.2140 C   0  0  0  0  0  0  0  0  0  0  0  0\\n    0.7999    2.2983   -0.6857 C   0  0  0  0  0  0  0  0  0  0  0  0\\n    2.8090    0.1880    0.6020 C   0  0  0  0  0  0  0  0  0  0  0  0\\n    2.5892    0.8264    1.9888 C   0  0  0  0  0  0  0  0  0  0  0  0\\n    3.9955    0.8614   -0.1129 C   0  0  0  0  0  0  0  0  0  0  0  0\\n    3.0671   -1.3251    0.7545 C   0  0  0  0  0  0  0  0  0  0  0  0\\n   -3.9410    2.2014    0.3303 H   0  0  0  0  0  0  0  0  0  0  0  0\\n   -2.3180    2.4652   -0.3310 H   0  0  0  0  0  0  0  0  0  0  0  0\\n   -2.8526    3.3770    1.0840 H   0  0  0  0  0  0  0  0  0  0  0  0\\n   -1.3211    1.5521    1.7942 H   0  0  0  0  0  0  0  0  0  0  0  0\\n   -2.9364    1.3580    2.4549 H   0  0  0  0  0  0  0  0  0  0  0  0\\n   -2.2509   -0.7858    1.7615 H   0  0  0  0  0  0  0  0  0  0  0  0\\n   -3.5055   -0.2622    0.6352 H   0  0  0  0  0  0  0  0  0  0  0  0\\n   -1.6474    0.3916   -1.0013 H   0  0  0  0  0  0  0  0  0  0  0  0\\n   -0.9436   -1.9062   -1.6395 H   0  0  0  0  0  0  0  0  0  0  0  0\\n   -3.1310   -2.7891   -2.1790 H   0  0  0  0  0  0  0  0  0  0  0  0\\n   -3.9112   -1.8516   -0.9033 H   0  0  0  0  0  0  0  0  0  0  0  0\\n   -3.1944   -1.0267   -2.3015 H   0  0  0  0  0  0  0  0  0  0  0  0\\n   -0.6053   -2.8918    0.6205 H   0  0  0  0  0  0  0  0  0  0  0  0\\n   -1.6172   -3.8893   -0.4281 H   0  0  0  0  0  0  0  0  0  0  0  0\\n   -2.3637   -2.9358    0.8563 H   0  0  0  0  0  0  0  0  0  0  0  0\\n    2.2547    0.1812   -2.6979 H   0  0  0  0  0  0  0  0  0  0  0  0\\n    1.6084   -1.3697   -2.1322 H   0  0  0  0  0  0  0  0  0  0  0  0\\n    0.5293   -0.1707   -2.8645 H   0  0  0  0  0  0  0  0  0  0  0  0\\n   -0.0593    2.5038   -1.3306 H   0  0  0  0  0  0  0  0  0  0  0  0\\n    1.6732    2.7877   -1.1259 H   0  0  0  0  0  0  0  0  0  0  0  0\\n    0.6090    2.7503    0.2916 H   0  0  0  0  0  0  0  0  0  0  0  0\\n    3.4721    0.6885    2.6233 H   0  0  0  0  0  0  0  0  0  0  0  0\\n    2.4038    1.9035    1.9117 H   0  0  0  0  0  0  0  0  0  0  0  0\\n    1.7345    0.3776    2.5076 H   0  0  0  0  0  0  0  0  0  0  0  0\\n    4.1674    0.4295   -1.1048 H   0  0  0  0  0  0  0  0  0  0  0  0\\n    3.8326    1.9371   -0.2407 H   0  0  0  0  0  0  0  0  0  0  0  0\\n    4.9178    0.7347    0.4655 H   0  0  0  0  0  0  0  0  0  0  0  0\\n    2.2253   -1.8298    1.2423 H   0  0  0  0  0  0  0  0  0  0  0  0\\n    3.9602   -1.5065    1.3631 H   0  0  0  0  0  0  0  0  0  0  0  0\\n    3.2266   -1.8066   -0.2166 H   0  0  0  0  0  0  0  0  0  0  0  0\\n  1  2  1  0\\n  2  3  1  0\\n  3  4  1  0\\n  4  5  1  0\\n  5  6  1  0\\n  5  7  1  0\\n  4  8  1  0\\n  8  9  1  0\\n  9 10  1  0\\n  9 11  1  0\\n  9 12  1  0\\n 12 13  1  0\\n 12 14  1  0\\n 12 15  1  0\\n  1 16  1  0\\n  1 17  1  0\\n  1 18  1  0\\n  2 19  1  0\\n  2 20  1  0\\n  3 21  1  0\\n  3 22  1  0\\n  4 23  1  0\\n  5 24  1  0\\n  6 25  1  0\\n  6 26  1  0\\n  6 27  1  0\\n  7 28  1  0\\n  7 29  1  0\\n  7 30  1  0\\n 10 31  1  0\\n 10 32  1  0\\n 10 33  1  0\\n 11 34  1  0\\n 11 35  1  0\\n 11 36  1  0\\n 13 37  1  0\\n 13 38  1  0\\n 13 39  1  0\\n 14 40  1  0\\n 14 41  1  0\\n 14 42  1  0\\n 15 43  1  0\\n 15 44  1  0\\n 15 45  1  0\\nM  END\\n\",\"sdf\");\n",
       "\tviewer_16456358393949766.setStyle({\"stick\": {}});\n",
       "\tviewer_16456358393949766.setBackgroundColor(\"0xeeeeee\");\n",
       "\tviewer_16456358393949766.zoomTo();\n",
       "viewer_16456358393949766.render();\n",
       "});\n",
       "</script>"
      ]
     },
     "metadata": {},
     "output_type": "display_data"
    }
   ],
   "source": [
    "drawit(con,confId=30)"
   ]
  },
  {
   "cell_type": "code",
   "execution_count": 17,
   "metadata": {},
   "outputs": [],
   "source": [
    "a = Chem.MolFromSmiles('CCO')\n",
    "p = Chem.MolFromSmarts('[OH]')\n",
    "m = a.GetSubstructMatches(p)\n",
    "a.GetAtomWithIdx(m[0][0]).SetAtomicNum(200)"
   ]
  },
  {
   "cell_type": "code",
   "execution_count": 18,
   "metadata": {},
   "outputs": [],
   "source": [
    "r = Chem.MolFromSmiles('O[Si]')\n",
    "p2 = Chem.MolFromSmarts('[#200]')\n",
    "a, = AllChem.ReplaceSubstructs(a,p2,r)"
   ]
  },
  {
   "cell_type": "code",
   "execution_count": 19,
   "metadata": {},
   "outputs": [
    {
     "data": {
      "image/png": "[encoded data removed]",
      "text/plain": [
       "<rdkit.Chem.rdchem.Mol at 0x7fb6107722e0>"
      ]
     },
     "execution_count": 19,
     "metadata": {},
     "output_type": "execute_result"
    }
   ],
   "source": [
    "a"
   ]
  },
  {
   "cell_type": "code",
   "execution_count": null,
   "metadata": {},
   "outputs": [],
   "source": []
  }
 ],
 "metadata": {
  "kernelspec": {
   "display_name": "Python 3",
   "language": "python",
   "name": "python3"
  },
  "language_info": {
   "codemirror_mode": {
    "name": "ipython",
    "version": 3
   },
   "file_extension": ".py",
   "mimetype": "text/x-python",
   "name": "python",
   "nbconvert_exporter": "python",
   "pygments_lexer": "ipython3",
   "version": "3.8.10"
  }
 },
 "nbformat": 4,
 "nbformat_minor": 4
}

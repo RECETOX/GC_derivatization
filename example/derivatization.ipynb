{
 "cells": [
  {
   "cell_type": "markdown",
   "metadata": {},
   "source": [
    "# In-silico derivatization\n",
    "\n",
    "The notebook reads a list of SMILES (text file, one molecule per line), and performs in-silico MeOX + TMS derivatization (as described e.g. in https://doi.org/10.1021/acs.analchem.7b01010):\n",
    "\n",
    "* Metoxymation: ketone R(C=O)R' and aldehyde karboxyl groups are substituted with C=NO[CH3]\n",
    "* Trimethylsilylation: in -OH, -SH, -NH2, -NHR, =NH, the hydrogen is substituted with -SiMe3\n",
    "\n",
    "The probability of all the substitutions can be adjusted, they needn't happen always. Multiple substitution attempts are run on each input molecule, and all distinct results are returned.\n",
    "\n",
    "Known limitation is metoxymation on cycles which should be broken. This is not implemented yet.\n",
    "\n",
    "The final outputs are two files:\n",
    "\n",
    "* `derivs_struct.tsv` with columns (all SMILES):\n",
    "  * original\n",
    "  * with derivatization groups stripped\n",
    "  * column #2 derivatized (multiple times) according to the above rules\n",
    "* `derivs_flat.txt` -- the above with all the smiles flattened, one per line\n",
    "\n"
   ]
  },
  {
   "cell_type": "markdown",
   "metadata": {},
   "source": [
    "### Import what we need and setup the environment"
   ]
  },
  {
   "cell_type": "code",
   "execution_count": 116,
   "metadata": {},
   "outputs": [
    {
     "name": "stdout",
     "output_type": "stream",
     "text": [
      "# cpus (including HT, typically):  8\n",
      "4\n"
     ]
    }
   ],
   "source": [
    "from rdkit import Chem\n",
    "from rdkit.Chem import AllChem\n",
    "#from rdkit.Chem.Draw import IPythonConsole\n",
    "from copy import deepcopy\n",
    "import random\n",
    "\n",
    "#IPythonConsole.drawOptions.addAtomIndices = True\n",
    "#IPythonConsole.molSize = 200,200\n",
    "\n",
    "random.seed(42)\n",
    "\n",
    "import multiprocessing\n",
    "from concurrent.futures import ProcessPoolExecutor\n",
    "cpus = multiprocessing.cpu_count()\n",
    "print('# cpus (including HT, typically): ', cpus)\n",
    "\n",
    "# don't run on HT cores, it just makes congestion\n",
    "cpus //= 2\n",
    "print(cpus)"
   ]
  },
  {
   "cell_type": "code",
   "execution_count": 117,
   "metadata": {},
   "outputs": [],
   "source": [
    "# import our payload\n",
    "from gc_meox_src import is_derivatized, remove_derivatization_groups, add_derivatization_groups"
   ]
  },
  {
   "cell_type": "markdown",
   "metadata": {},
   "source": [
    "### Utility function for 3D rendering"
   ]
  },
  {
   "cell_type": "code",
   "execution_count": 118,
   "metadata": {},
   "outputs": [],
   "source": [
    "import py3Dmol\n",
    "\n",
    "def set_draw3d(m,dimensions=(500,300),p=None):\n",
    "    AllChem.EmbedMultipleConfs(m, clearConfs=True, numConfs=50)\n",
    "    opt =  AllChem.MMFFOptimizeMoleculeConfs(m)\n",
    "    conf = min(range(len(opt)),key = lambda x: opt[x][1] if opt[x][0] == 0 else float(\"inf\") )\n",
    "    \n",
    "    mb = Chem.MolToMolBlock(m,confId=conf)\n",
    "    if p is None:\n",
    "        p = py3Dmol.view(width=dimensions[0],height=dimensions[1])\n",
    "    p.removeAllModels()\n",
    "    p.addModel(mb,'sdf')\n",
    "    p.setStyle({'stick':{}})\n",
    "    p.setBackgroundColor('0xeeeeee')\n",
    "    p.zoomTo()\n",
    "    return p.show()\n"
   ]
  },
  {
   "cell_type": "markdown",
   "metadata": {},
   "source": [
    "### Simple checks on manual inputs"
   ]
  },
  {
   "cell_type": "markdown",
   "metadata": {},
   "source": [
    "### Read the input file\n",
    "\n",
    "The file is parsed line by line, errors are reported and ignored otherwise. \n",
    "\n",
    "The result is `mol[]`, a list of pairs (_original SMILES_, _RDKit molecule_)"
   ]
  },
  {
   "cell_type": "code",
   "execution_count": 119,
   "metadata": {},
   "outputs": [
    {
     "data": {
      "text/plain": [
       "[('CC(=O)N([Si](C)(C)C)[Si](C)(C)C',\n",
       "  <rdkit.Chem.rdchem.Mol at 0x7fcab3239ee0>),\n",
       " ('CCC(=NOC)C', <rdkit.Chem.rdchem.Mol at 0x7fcab31b2220>),\n",
       " ('CCC=NOC', <rdkit.Chem.rdchem.Mol at 0x7fcab31a1880>),\n",
       " ('C=NOC', <rdkit.Chem.rdchem.Mol at 0x7fcab31a1d00>)]"
      ]
     },
     "execution_count": 119,
     "metadata": {},
     "output_type": "execute_result"
    }
   ],
   "source": [
    "#smi_file='NIST_Si_100.txt'\n",
    "#smi_file='NIST_Si_all.txt'\n",
    "#smi_file='NIST_SMILES.txt'\n",
    "filename = 'NIST_195_200.txt'\n",
    "def read_input_file(filename):\n",
    "    smi_file = filename\n",
    "    with open(smi_file) as f:\n",
    "        mols = list(filter(lambda p: p[1], [ (smi.rstrip(), Chem.MolFromSmiles(smi)) for smi in f ]))\n",
    "        return mols\n",
    "\n",
    "read_input_file(filename)"
   ]
  },
  {
   "cell_type": "markdown",
   "metadata": {},
   "source": [
    "### Essential statistics\n",
    "\n",
    "Count occurrences of (one-),di-,tri-methylsilane, TMS attached to -O, -N, -S, and methoximine. "
   ]
  },
  {
   "cell_type": "code",
   "execution_count": 120,
   "metadata": {},
   "outputs": [
    {
     "name": "stderr",
     "output_type": "stream",
     "text": [
      "[22:00:21] Molecule does not have explicit Hs. Consider calling AddHs()\n",
      "[22:00:21] Molecule does not have explicit Hs. Consider calling AddHs()\n"
     ]
    },
    {
     "data": {
      "application/3dmoljs_load.v0": "<div id=\"3dmolviewer_16582608220488005\"  style=\"position: relative; width: 500px; height: 300px\">\n        <p id=\"3dmolwarning_16582608220488005\" style=\"background-color:#ffcccc;color:black\">You appear to be running in JupyterLab (or JavaScript failed to load for some other reason).  You need to install the 3dmol extension: <br>\n        <tt>jupyter labextension install jupyterlab_3dmol</tt></p>\n        </div>\n<script>\n\nvar loadScriptAsync = function(uri){\n  return new Promise((resolve, reject) => {\n    var tag = document.createElement('script');\n    tag.src = uri;\n    tag.async = true;\n    tag.onload = () => {\n      resolve();\n    };\n  var firstScriptTag = document.getElementsByTagName('script')[0];\n  firstScriptTag.parentNode.insertBefore(tag, firstScriptTag);\n});\n};\n\nif(typeof $3Dmolpromise === 'undefined') {\n$3Dmolpromise = null;\n  $3Dmolpromise = loadScriptAsync('https://3dmol.org/build/3Dmol.js');\n}\n\nvar viewer_16582608220488005 = null;\nvar warn = document.getElementById(\"3dmolwarning_16582608220488005\");\nif(warn) {\n    warn.parentNode.removeChild(warn);\n}\n$3Dmolpromise.then(function() {\nviewer_16582608220488005 = $3Dmol.createViewer($(\"#3dmolviewer_16582608220488005\"),{backgroundColor:\"white\"});\nviewer_16582608220488005.zoomTo();\n\tviewer_16582608220488005.removeAllModels();\n\tviewer_16582608220488005.addModel(\"\\n     RDKit          3D\\n\\n 12 11  0  0  0  0  0  0  0  0999 V2000\\n    1.0464    2.5003    0.4207 C   0  0  0  0  0  0  0  0  0  0  0  0\\n   -0.1796    1.6946    0.0802 C   0  0  0  0  0  0  0  0  0  0  0  0\\n   -1.2219    2.3082   -0.1490 O   0  0  0  0  0  0  0  0  0  0  0  0\\n   -0.0460    0.3153    0.0612 N   0  0  0  0  0  0  0  0  0  0  0  0\\n   -1.4800   -0.7038   -0.2657 Si  0  0  0  0  0  4  0  0  0  0  0  0\\n   -1.3590   -1.3599   -1.9951 C   0  0  0  0  0  0  0  0  0  0  0  0\\n   -3.0782    0.2140   -0.0826 C   0  0  0  0  0  0  0  0  0  0  0  0\\n   -1.5371   -2.1168    0.9404 C   0  0  0  0  0  0  0  0  0  0  0  0\\n    1.5268   -0.5112    0.2058 Si  0  0  0  0  0  4  0  0  0  0  0  0\\n    2.7162    0.2560   -0.9952 C   0  0  0  0  0  0  0  0  0  0  0  0\\n    1.4655   -2.3262   -0.1565 C   0  0  0  0  0  0  0  0  0  0  0  0\\n    2.1469   -0.2705    1.9357 C   0  0  0  0  0  0  0  0  0  0  0  0\\n  1  2  1  0\\n  2  3  2  0\\n  2  4  1  0\\n  4  5  1  0\\n  5  6  1  0\\n  5  7  1  0\\n  5  8  1  0\\n  4  9  1  0\\n  9 10  1  0\\n  9 11  1  0\\n  9 12  1  0\\nM  END\\n\",\"sdf\");\n\tviewer_16582608220488005.setStyle({\"stick\": {}});\n\tviewer_16582608220488005.setBackgroundColor(\"0xeeeeee\");\n\tviewer_16582608220488005.zoomTo();\nviewer_16582608220488005.render();\n});\n</script>",
      "text/html": [
       "<div id=\"3dmolviewer_16582608220488005\"  style=\"position: relative; width: 500px; height: 300px\">\n",
       "        <p id=\"3dmolwarning_16582608220488005\" style=\"background-color:#ffcccc;color:black\">You appear to be running in JupyterLab (or JavaScript failed to load for some other reason).  You need to install the 3dmol extension: <br>\n",
       "        <tt>jupyter labextension install jupyterlab_3dmol</tt></p>\n",
       "        </div>\n",
       "<script>\n",
       "\n",
       "var loadScriptAsync = function(uri){\n",
       "  return new Promise((resolve, reject) => {\n",
       "    var tag = document.createElement('script');\n",
       "    tag.src = uri;\n",
       "    tag.async = true;\n",
       "    tag.onload = () => {\n",
       "      resolve();\n",
       "    };\n",
       "  var firstScriptTag = document.getElementsByTagName('script')[0];\n",
       "  firstScriptTag.parentNode.insertBefore(tag, firstScriptTag);\n",
       "});\n",
       "};\n",
       "\n",
       "if(typeof $3Dmolpromise === 'undefined') {\n",
       "$3Dmolpromise = null;\n",
       "  $3Dmolpromise = loadScriptAsync('https://3dmol.org/build/3Dmol.js');\n",
       "}\n",
       "\n",
       "var viewer_16582608220488005 = null;\n",
       "var warn = document.getElementById(\"3dmolwarning_16582608220488005\");\n",
       "if(warn) {\n",
       "    warn.parentNode.removeChild(warn);\n",
       "}\n",
       "$3Dmolpromise.then(function() {\n",
       "viewer_16582608220488005 = $3Dmol.createViewer($(\"#3dmolviewer_16582608220488005\"),{backgroundColor:\"white\"});\n",
       "viewer_16582608220488005.zoomTo();\n",
       "\tviewer_16582608220488005.removeAllModels();\n",
       "\tviewer_16582608220488005.addModel(\"\\n     RDKit          3D\\n\\n 12 11  0  0  0  0  0  0  0  0999 V2000\\n    1.0464    2.5003    0.4207 C   0  0  0  0  0  0  0  0  0  0  0  0\\n   -0.1796    1.6946    0.0802 C   0  0  0  0  0  0  0  0  0  0  0  0\\n   -1.2219    2.3082   -0.1490 O   0  0  0  0  0  0  0  0  0  0  0  0\\n   -0.0460    0.3153    0.0612 N   0  0  0  0  0  0  0  0  0  0  0  0\\n   -1.4800   -0.7038   -0.2657 Si  0  0  0  0  0  4  0  0  0  0  0  0\\n   -1.3590   -1.3599   -1.9951 C   0  0  0  0  0  0  0  0  0  0  0  0\\n   -3.0782    0.2140   -0.0826 C   0  0  0  0  0  0  0  0  0  0  0  0\\n   -1.5371   -2.1168    0.9404 C   0  0  0  0  0  0  0  0  0  0  0  0\\n    1.5268   -0.5112    0.2058 Si  0  0  0  0  0  4  0  0  0  0  0  0\\n    2.7162    0.2560   -0.9952 C   0  0  0  0  0  0  0  0  0  0  0  0\\n    1.4655   -2.3262   -0.1565 C   0  0  0  0  0  0  0  0  0  0  0  0\\n    2.1469   -0.2705    1.9357 C   0  0  0  0  0  0  0  0  0  0  0  0\\n  1  2  1  0\\n  2  3  2  0\\n  2  4  1  0\\n  4  5  1  0\\n  5  6  1  0\\n  5  7  1  0\\n  5  8  1  0\\n  4  9  1  0\\n  9 10  1  0\\n  9 11  1  0\\n  9 12  1  0\\nM  END\\n\",\"sdf\");\n",
       "\tviewer_16582608220488005.setStyle({\"stick\": {}});\n",
       "\tviewer_16582608220488005.setBackgroundColor(\"0xeeeeee\");\n",
       "\tviewer_16582608220488005.zoomTo();\n",
       "viewer_16582608220488005.render();\n",
       "});\n",
       "</script>"
      ]
     },
     "metadata": {},
     "output_type": "display_data"
    },
    {
     "name": "stdout",
     "output_type": "stream",
     "text": [
      "# Total : 4\n",
      "# With SiMe1 : 1\n",
      "# With SiMe2 : 1\n",
      "# With SiMe3 : 1\n",
      "# With ONSSi : 1\n",
      "# With MeOX : 0\n"
     ]
    }
   ],
   "source": [
    "dict_deriv = {\n",
    "    \"SiMe1\" : Chem.MolFromSmarts('[Si][CH3]'),\n",
    "    \"SiMe2\" : Chem.MolFromSmarts('[Si]([CH3])[CH3]'),\n",
    "    \"SiMe3\" : Chem.MolFromSmarts('[Si]([CH3])([CH3])[CH3]'),\n",
    "    \"ONSSi\" : Chem.MolFromSmarts('[O,N,S][Si]([CH3])([CH3])[CH3]'),\n",
    "    \"MeOX\"  : Chem.MolFromSmiles('CC1CO1')\n",
    "}\n",
    "def statistics(filename):\n",
    "    print('# Total',':',len(read_input_file(filename)))\n",
    "    for key in dict_deriv:\n",
    "        x = list(filter(lambda m: m[1].HasSubstructMatch(dict_deriv[key]),\n",
    "        read_input_file(filename)))\n",
    "        print('# With',key,':', len(x))\n",
    "\n",
    "def plot_3d(key):\n",
    "    x = list(filter(lambda m: m[1].HasSubstructMatch(dict_deriv[key]),\n",
    "    read_input_file(filename)))\n",
    "    set_draw3d(x[0][1])\n",
    "\n",
    "\n",
    "\n",
    "plot_3d('SiMe1')\n",
    "statistics(filename)"
   ]
  },
  {
   "cell_type": "markdown",
   "metadata": {},
   "source": [
    "### Inspect whatever from the sorted categories"
   ]
  },
  {
   "cell_type": "code",
   "execution_count": null,
   "metadata": {},
   "outputs": [],
   "source": [
    "\n",
    "with_sime1[0][1]"
   ]
  },
  {
   "cell_type": "code",
   "execution_count": null,
   "metadata": {},
   "outputs": [],
   "source": [
    "draw3d(with_sime3[0][1])"
   ]
  },
  {
   "cell_type": "code",
   "execution_count": null,
   "metadata": {},
   "outputs": [],
   "source": [
    "draw3d(with_onssi[0][1])"
   ]
  },
  {
   "cell_type": "code",
   "execution_count": null,
   "metadata": {},
   "outputs": [],
   "source": [
    "with_meox[0][1]\n"
   ]
  },
  {
   "cell_type": "code",
   "execution_count": null,
   "metadata": {},
   "outputs": [],
   "source": [
    "draw3d(with_meox[0][1])"
   ]
  },
  {
   "cell_type": "code",
   "execution_count": null,
   "metadata": {},
   "outputs": [],
   "source": [
    "with open('NIST_ONSSiMe3.txt','w') as f:\n",
    "    for m in with_onssi:\n",
    "        f.write(m[0]+'\\n')\n",
    "        \n",
    "with open('NIST_SiMe3.txt','w') as f:\n",
    "    for m in with_sime3:\n",
    "        f.write(m[0]+'\\n')\n",
    "        \n",
    "with open('NIST_MeOX.txt','w') as f:\n",
    "    for m in with_meox:\n",
    "        f.write(m[0]+'\\n')"
   ]
  },
  {
   "cell_type": "code",
   "execution_count": null,
   "metadata": {},
   "outputs": [],
   "source": [
    "#test_smi='CCO[Si](C)(C)C'\n",
    "#test_smi='C[Si](C)(C)OCC-N[Si](C)(C)C'\n",
    "#test_m = Chem.MolFromSmiles(test_smi)\n",
    "test_m = with_onssi[0][1]\n",
    "Chem.AddHs(test_m)\n",
    "test_m"
   ]
  },
  {
   "cell_type": "code",
   "execution_count": null,
   "metadata": {},
   "outputs": [],
   "source": [
    "test_n = remove_derivatization_groups(test_m)\n",
    "Chem.AddHs(test_n)"
   ]
  },
  {
   "cell_type": "code",
   "execution_count": null,
   "metadata": {},
   "outputs": [],
   "source": [
    "test_d = add_derivatization_groups(test_n)\n",
    "test_d"
   ]
  },
  {
   "cell_type": "code",
   "execution_count": null,
   "metadata": {},
   "outputs": [],
   "source": [
    "draw3d(test_d)"
   ]
  },
  {
   "cell_type": "code",
   "execution_count": 140,
   "metadata": {},
   "outputs": [
    {
     "name": "stdout",
     "output_type": "stream",
     "text": [
      "CCC(=NOC)C True\n",
      "CCC=NOC True\n",
      "C=NOC True\n",
      "CSi(C)(C)C True\n"
     ]
    }
   ],
   "source": [
    "for s in 'CCC(=NOC)C', 'CCC=NOC', 'C=NOC', 'CSi(C)(C)C':\n",
    "    print(s,is_derivatized(smiles='CCC(=NOC)C'))\n",
    "m = remove_derivatization_groups(smiles='CCC(=N)C')\n",
    "n = remove_derivatization_groups(smiles='C[Si](C)(C)OCCCO[Si](C)(C)C')\n",
    "p = remove_derivatization_groups(smiles='CON=CC(O)C=NOC')\n",
    "s = add_derivatization_groups(n)\n"
   ]
  },
  {
   "cell_type": "markdown",
   "metadata": {},
   "source": [
    "### Run the in-silico derivatization\n",
    "\n",
    "Iterate over the `mol[]` list (read from file above), remove derivatization groups from each entry, and try derivatization several times to leverage from the probabilistic behaviour). Assemble the results.\n",
    "\n",
    "This can be time consuming, expect about 5,000 entries per minute per core. Memory consumption can also grow to several GB."
   ]
  },
  {
   "cell_type": "code",
   "execution_count": null,
   "metadata": {},
   "outputs": [],
   "source": [
    "%%time\n",
    "def process_one_mol(mol):\n",
    "    return (\n",
    "        mol[0],\n",
    "        Chem.MolToSmiles(remove_derivatization_groups(mol[1])),\n",
    "        { Chem.MolToSmiles(add_derivatization_groups(mol[1])) for _ in range(42) }\n",
    "        )\n",
    "\n",
    "def num_cpu():\n",
    "    random.seed(42)\n",
    "    cpus = multiprocessing.cpu_count()\n",
    "    print('# cpus (including HT, typically): ', cpus)\n",
    "    cpus //= 2\n",
    "            \n",
    "def process_pool_exe(filename):\n",
    "    with ProcessPoolExecutor(max_workers=num_cpu()) as executor:\n",
    "        out = executor.map(process_one_mol,read_input_file(filename))\n",
    "        return out\n",
    "    \n",
    "type(out)"
   ]
  },
  {
   "cell_type": "markdown",
   "metadata": {},
   "source": [
    "### Write the main outputs"
   ]
  },
  {
   "cell_type": "code",
   "execution_count": null,
   "metadata": {},
   "outputs": [],
   "source": [
    "with open('derivs_struct.tsv','w') as tsv:\n",
    "    tsv.write(\"orig\\tderiv. removed\\tderiv. added ...\\n\")\n",
    "    for orig,removed,added in process_pool_exe(filename):\n",
    "        tsv.write(\"\\t\".join([orig,removed,*added]) + \"\\n\")"
   ]
  },
  {
   "cell_type": "code",
   "execution_count": null,
   "metadata": {},
   "outputs": [],
   "source": [
    "with open('derivs_flat.txt','w') as flat:\n",
    "    for orig,removed,added in out:\n",
    "        for one in { orig, removed, *added }:\n",
    "            flat.write(one + \"\\n\")"
   ]
  }
 ],
 "metadata": {
  "kernelspec": {
   "display_name": "Python 3.8.10 ('derivatization_env')",
   "language": "python",
   "name": "python3"
  },
  "language_info": {
   "codemirror_mode": {
    "name": "ipython",
    "version": 3
   },
   "file_extension": ".py",
   "mimetype": "text/x-python",
   "name": "python",
   "nbconvert_exporter": "python",
   "pygments_lexer": "ipython3",
   "version": "3.8.10"
  },
  "vscode": {
   "interpreter": {
    "hash": "2a21592ade65492df765590ea0bd0b508455be4366dfb46184fdbfd925757cb4"
   }
  }
 },
 "nbformat": 4,
 "nbformat_minor": 4
}

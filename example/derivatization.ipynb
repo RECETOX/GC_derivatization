{
 "cells": [
  {
   "cell_type": "markdown",
   "metadata": {
    "pycharm": {
     "name": "#%% md\n"
    }
   },
   "source": [
    "# In-silico derivatization\n",
    "\n",
    "The notebook reads a list of SMILES (text file, one molecule per line), and performs in-silico MeOX + TMS derivatization (as described e.g. in https://doi.org/10.1021/acs.analchem.7b01010):\n",
    "\n",
    "* Metoxymation: ketone R(C=O)R' and aldehyde karboxyl groups are substituted with C=NO[CH3]\n",
    "* Trimethylsilylation: in -OH, -SH, -NH2, -NHR, =NH, the hydrogen is substituted with -SiMe3\n",
    "\n",
    "The probability of all the substitutions can be adjusted, they needn't happen always. Multiple substitution attempts are run on each input molecule, and all distinct results are returned.\n",
    "\n",
    "Known limitation is metoxymation on cycles which should be broken. This is not implemented yet.\n",
    "\n",
    "The final outputs are two files:\n",
    "\n",
    "* `derivs_struct.tsv` with columns (all SMILES):\n",
    "  * original\n",
    "  * with derivatization groups stripped\n",
    "  * column #2 derivatized (multiple times) according to the above rules\n",
    "* `derivs_flat.txt` -- the above with all the smiles flattened, one per line\n",
    "\n"
   ]
  },
  {
   "cell_type": "markdown",
   "metadata": {
    "pycharm": {
     "name": "#%% md\n"
    }
   },
   "source": [
    "### Import what we need and setup the environment"
   ]
  },
  {
   "cell_type": "code",
   "execution_count": 6,
   "metadata": {
    "pycharm": {
     "name": "#%%\n"
    }
   },
   "outputs": [
    {
     "name": "stdout",
     "output_type": "stream",
     "text": [
      "# cpus (including HT, typically):  8\n"
     ]
    }
   ],
   "source": [
    "from rdkit import Chem\n",
    "from rdkit.Chem import AllChem\n",
    "#from rdkit.Chem.Draw import IPythonConsole\n",
    "from copy import deepcopy\n",
    "import random\n",
    "\n",
    "#IPythonConsole.drawOptions.addAtomIndices = True\n",
    "#IPythonConsole.molSize = 200,200\n",
    "\n",
    "random.seed(42)\n",
    "\n",
    "import multiprocessing\n",
    "from concurrent.futures import ProcessPoolExecutor\n",
    "cpus = multiprocessing.cpu_count()\n",
    "print('# cpus (including HT, typically): ', cpus)\n",
    "\n",
    "# don't run on HT cores, it just makes congestion\n",
    "cpus //= 2"
   ]
  },
  {
   "cell_type": "code",
   "execution_count": 7,
   "metadata": {
    "pycharm": {
     "name": "#%%\n"
    }
   },
   "outputs": [],
   "source": [
    "# import our payload\n",
    "\n",
    "from gc_meox_src import is_derivatized, remove_derivatization_groups, add_derivatization_groups"
   ]
  },
  {
   "cell_type": "markdown",
   "metadata": {
    "pycharm": {
     "name": "#%% md\n"
    }
   },
   "source": [
    "### Utility function for 3D rendering"
   ]
  },
  {
   "cell_type": "code",
   "execution_count": 31,
   "metadata": {
    "pycharm": {
     "name": "#%%\n"
    }
   },
   "outputs": [],
   "source": [
    "import py3Dmol\n",
    "\n",
    "def draw3d(m,dimensions=(500,300),p=None):\n",
    "    AllChem.EmbedMultipleConfs(m, clearConfs=True, numConfs=50)\n",
    "    opt =  AllChem.MMFFOptimizeMoleculeConfs(m)\n",
    "    conf = min(range(len(opt)),key = lambda x: opt[x][1] if opt[x][0] == 0 else float(\"inf\") )\n",
    "    \n",
    "    mb = Chem.MolToMolBlock(m,confId=conf)\n",
    "    if p is None:\n",
    "        p = py3Dmol.view(width=dimensions[0],height=dimensions[1])\n",
    "    p.removeAllModels()\n",
    "    p.addModel(mb,'sdf')\n",
    "    p.setStyle({'stick':{}})\n",
    "    p.setBackgroundColor('0xeeeeee')\n",
    "    p.zoomTo()\n",
    "    return p.show()"
   ]
  },
  {
   "cell_type": "markdown",
   "metadata": {
    "pycharm": {
     "name": "#%% md\n"
    }
   },
   "source": [
    "### Simple checks on manual inputs"
   ]
  },
  {
   "cell_type": "code",
   "execution_count": 32,
   "metadata": {
    "pycharm": {
     "name": "#%%\n"
    }
   },
   "outputs": [
    {
     "name": "stdout",
     "output_type": "stream",
     "text": [
      "CCC(=NOC)C True\n",
      "CCC=NOC True\n",
      "C=NOC True\n",
      "CSi(C)(C)C True\n"
     ]
    }
   ],
   "source": [
    "for s in ['CCC(=NOC)C', 'CCC=NOC', 'C=NOC', 'CSi(C)(C)C']:\n",
    "    print(s,is_derivatized(smiles='CCC(=NOC)C'))"
   ]
  },
  {
   "cell_type": "code",
   "execution_count": 33,
   "metadata": {
    "pycharm": {
     "name": "#%%\n"
    }
   },
   "outputs": [
    {
     "data": {
      "text/plain": "<rdkit.Chem.rdchem.Mol at 0x1511f7df0>",
      "image/png": "[encoded data removed]"
     },
     "execution_count": 33,
     "metadata": {},
     "output_type": "execute_result"
    }
   ],
   "source": [
    "remove_derivatization_groups(smiles='CCC(=N)C')"
   ]
  },
  {
   "cell_type": "code",
   "execution_count": 34,
   "metadata": {
    "pycharm": {
     "name": "#%%\n"
    }
   },
   "outputs": [
    {
     "data": {
      "text/plain": "<rdkit.Chem.rdchem.Mol at 0x1511f78b0>",
      "image/png": "[encoded data removed]"
     },
     "execution_count": 34,
     "metadata": {},
     "output_type": "execute_result"
    }
   ],
   "source": [
    "m=Chem.MolFromSmiles('CCC=NOC')\n",
    "remove_derivatization_groups(m)"
   ]
  },
  {
   "cell_type": "code",
   "execution_count": 35,
   "metadata": {
    "pycharm": {
     "name": "#%%\n"
    }
   },
   "outputs": [
    {
     "data": {
      "text/plain": "<rdkit.Chem.rdchem.Mol at 0x15144c270>",
      "image/png": "[encoded data removed]"
     },
     "execution_count": 35,
     "metadata": {},
     "output_type": "execute_result"
    }
   ],
   "source": [
    "remove_derivatization_groups(smiles='C[Si](C)(C)OCCCO[Si](C)(C)C')"
   ]
  },
  {
   "cell_type": "code",
   "execution_count": 36,
   "metadata": {
    "pycharm": {
     "name": "#%%\n"
    }
   },
   "outputs": [
    {
     "data": {
      "text/plain": "<rdkit.Chem.rdchem.Mol at 0x15144c820>",
      "image/png": "[encoded data removed]"
     },
     "execution_count": 36,
     "metadata": {},
     "output_type": "execute_result"
    }
   ],
   "source": [
    "m=remove_derivatization_groups(smiles='CON=CC(O)C=NOC')\n",
    "m"
   ]
  },
  {
   "cell_type": "code",
   "execution_count": 37,
   "metadata": {
    "pycharm": {
     "name": "#%%\n"
    }
   },
   "outputs": [
    {
     "data": {
      "text/plain": "<rdkit.Chem.rdchem.Mol at 0x15144c970>",
      "image/png": "[encoded data removed]"
     },
     "execution_count": 37,
     "metadata": {},
     "output_type": "execute_result"
    }
   ],
   "source": [
    "add_derivatization_groups(m)"
   ]
  },
  {
   "cell_type": "markdown",
   "metadata": {
    "pycharm": {
     "name": "#%% md\n"
    }
   },
   "source": [
    "### Read the input file\n",
    "\n",
    "The file is parsed line by line, errors are reported and ignored otherwise. \n",
    "\n",
    "The result is `mol[]`, a list of pairs (_original SMILES_, _RDKit molecule_)"
   ]
  },
  {
   "cell_type": "code",
   "execution_count": 38,
   "metadata": {
    "pycharm": {
     "name": "#%%\n"
    }
   },
   "outputs": [],
   "source": [
    "#smi_file='NIST_Si_100.txt'\n",
    "#smi_file='NIST_Si_all.txt'\n",
    "#smi_file='NIST_SMILES.txt'\n",
    "smi_file='NIST_195_200.txt'\n",
    "with open(smi_file) as f:\n",
    "    mols = list(filter(lambda p: p[1], [ (smi.rstrip(), Chem.MolFromSmiles(smi)) for smi in f ]))"
   ]
  },
  {
   "cell_type": "markdown",
   "metadata": {
    "pycharm": {
     "name": "#%% md\n"
    }
   },
   "source": [
    "### Essential statistics\n",
    "\n",
    "Count occurrences of (one-),di-,tri-methylsilane, TMS attached to -O, -N, -S, and methoximine. "
   ]
  },
  {
   "cell_type": "code",
   "execution_count": 39,
   "metadata": {
    "pycharm": {
     "name": "#%%\n"
    }
   },
   "outputs": [
    {
     "name": "stdout",
     "output_type": "stream",
     "text": [
      "# total 4\n",
      "# with SiMe: 1\n",
      "# with SiMe2: 1\n",
      "# with SiMe3: 1\n",
      "# with ONSSi: 1\n",
      "# with MeOX: 3\n"
     ]
    }
   ],
   "source": [
    "SiMe1=Chem.MolFromSmarts('[Si][CH3]')\n",
    "SiMe2=Chem.MolFromSmarts('[Si]([CH3])[CH3]')\n",
    "SiMe3=Chem.MolFromSmarts('[Si]([CH3])([CH3])[CH3]')\n",
    "ONSSi=Chem.MolFromSmarts('[O,N,S][Si]([CH3])([CH3])[CH3]')\n",
    "\n",
    "print('# total',len(mols))\n",
    "with_sime1 = list(filter(lambda m: m[1].HasSubstructMatch(SiMe1),mols))\n",
    "print(\"# with SiMe:\", len(with_sime1))\n",
    "with_sime2 = list(filter(lambda m: m[1].HasSubstructMatch(SiMe2),mols))\n",
    "print(\"# with SiMe2:\", len(with_sime2))\n",
    "with_sime3 = list(filter(lambda m: m[1].HasSubstructMatch(SiMe3),mols))\n",
    "print(\"# with SiMe3:\", len(with_sime3))\n",
    "with_onssi = list(filter(lambda m: m[1].HasSubstructMatch(ONSSi),mols))\n",
    "print(\"# with ONSSi:\", len(with_onssi))\n",
    "\n",
    "MeOX=Chem.MolFromSmarts('C=NO[CH3]')\n",
    "with_meox = list(filter(lambda m: m[1].HasSubstructMatch(MeOX),mols))\n",
    "print(\"# with MeOX:\", len(with_meox))\n",
    "\n",
    "\n"
   ]
  },
  {
   "cell_type": "markdown",
   "metadata": {
    "pycharm": {
     "name": "#%% md\n"
    }
   },
   "source": [
    "### Inspect whatever from the sorted categories"
   ]
  },
  {
   "cell_type": "code",
   "execution_count": 41,
   "metadata": {
    "pycharm": {
     "name": "#%%\n"
    }
   },
   "outputs": [
    {
     "data": {
      "text/plain": "<rdkit.Chem.rdchem.Mol at 0x151426020>",
      "image/png": "[encoded data removed]"
     },
     "execution_count": 41,
     "metadata": {},
     "output_type": "execute_result"
    }
   ],
   "source": [
    "with_sime2[0][1]"
   ]
  },
  {
   "cell_type": "code",
   "execution_count": 42,
   "metadata": {
    "pycharm": {
     "name": "#%%\n"
    }
   },
   "outputs": [
    {
     "name": "stderr",
     "output_type": "stream",
     "text": [
      "[14:17:11] Molecule does not have explicit Hs. Consider calling AddHs()\n",
      "[14:17:11] Molecule does not have explicit Hs. Consider calling AddHs()\n"
     ]
    },
    {
     "data": {
      "application/3dmoljs_load.v0": "<div id=\"3dmolviewer_1666354631285941\"  style=\"position: relative; width: 500px; height: 300px\">\n        <p id=\"3dmolwarning_1666354631285941\" style=\"background-color:#ffcccc;color:black\">You appear to be running in JupyterLab (or JavaScript failed to load for some other reason).  You need to install the 3dmol extension: <br>\n        <tt>jupyter labextension install jupyterlab_3dmol</tt></p>\n        </div>\n<script>\n\nvar loadScriptAsync = function(uri){\n  return new Promise((resolve, reject) => {\n    var tag = document.createElement('script');\n    tag.src = uri;\n    tag.async = true;\n    tag.onload = () => {\n      resolve();\n    };\n  var firstScriptTag = document.getElementsByTagName('script')[0];\n  firstScriptTag.parentNode.insertBefore(tag, firstScriptTag);\n});\n};\n\nif(typeof $3Dmolpromise === 'undefined') {\n$3Dmolpromise = null;\n  $3Dmolpromise = loadScriptAsync('https://cdn.jsdelivr.net/npm/3dmol@latest/build/3Dmol-min.min.js');\n}\n\nvar viewer_1666354631285941 = null;\nvar warn = document.getElementById(\"3dmolwarning_1666354631285941\");\nif(warn) {\n    warn.parentNode.removeChild(warn);\n}\n$3Dmolpromise.then(function() {\nviewer_1666354631285941 = $3Dmol.createViewer($(\"#3dmolviewer_1666354631285941\"),{backgroundColor:\"white\"});\nviewer_1666354631285941.zoomTo();\n\tviewer_1666354631285941.removeAllModels();\n\tviewer_1666354631285941.addModel(\"\\n     RDKit          3D\\n\\n 12 11  0  0  0  0  0  0  0  0999 V2000\\n   -2.6161   -0.8235   -0.0331 C   0  0  0  0  0  0  0  0  0  0  0  0\\n   -1.1715   -1.2298   -0.1598 C   0  0  0  0  0  0  0  0  0  0  0  0\\n   -0.9289   -2.4123   -0.4011 O   0  0  0  0  0  0  0  0  0  0  0  0\\n   -0.2173   -0.2403    0.0168 N   0  0  0  0  0  0  0  0  0  0  0  0\\n    1.5186   -0.6692   -0.0495 Si  0  0  0  0  0  4  0  0  0  0  0  0\\n    2.2120   -0.0851   -1.6663 C   0  0  0  0  0  0  0  0  0  0  0  0\\n    1.8221   -2.4891    0.1111 C   0  0  0  0  0  0  0  0  0  0  0  0\\n    2.4234    0.1467    1.3542 C   0  0  0  0  0  0  0  0  0  0  0  0\\n   -0.6258    1.4883    0.1677 Si  0  0  0  0  0  4  0  0  0  0  0  0\\n   -1.4813    1.7381    1.7928 C   0  0  0  0  0  0  0  0  0  0  0  0\\n   -1.7706    1.9536   -1.2174 C   0  0  0  0  0  0  0  0  0  0  0  0\\n    0.8356    2.6226    0.0847 C   0  0  0  0  0  0  0  0  0  0  0  0\\n  1  2  1  0\\n  2  3  2  0\\n  2  4  1  0\\n  4  5  1  0\\n  5  6  1  0\\n  5  7  1  0\\n  5  8  1  0\\n  4  9  1  0\\n  9 10  1  0\\n  9 11  1  0\\n  9 12  1  0\\nM  END\\n\",\"sdf\");\n\tviewer_1666354631285941.setStyle({\"stick\": {}});\n\tviewer_1666354631285941.setBackgroundColor(\"0xeeeeee\");\n\tviewer_1666354631285941.zoomTo();\nviewer_1666354631285941.render();\n});\n</script>",
      "text/html": "<div id=\"3dmolviewer_1666354631285941\"  style=\"position: relative; width: 500px; height: 300px\">\n        <p id=\"3dmolwarning_1666354631285941\" style=\"background-color:#ffcccc;color:black\">You appear to be running in JupyterLab (or JavaScript failed to load for some other reason).  You need to install the 3dmol extension: <br>\n        <tt>jupyter labextension install jupyterlab_3dmol</tt></p>\n        </div>\n<script>\n\nvar loadScriptAsync = function(uri){\n  return new Promise((resolve, reject) => {\n    var tag = document.createElement('script');\n    tag.src = uri;\n    tag.async = true;\n    tag.onload = () => {\n      resolve();\n    };\n  var firstScriptTag = document.getElementsByTagName('script')[0];\n  firstScriptTag.parentNode.insertBefore(tag, firstScriptTag);\n});\n};\n\nif(typeof $3Dmolpromise === 'undefined') {\n$3Dmolpromise = null;\n  $3Dmolpromise = loadScriptAsync('https://cdn.jsdelivr.net/npm/3dmol@latest/build/3Dmol-min.min.js');\n}\n\nvar viewer_1666354631285941 = null;\nvar warn = document.getElementById(\"3dmolwarning_1666354631285941\");\nif(warn) {\n    warn.parentNode.removeChild(warn);\n}\n$3Dmolpromise.then(function() {\nviewer_1666354631285941 = $3Dmol.createViewer($(\"#3dmolviewer_1666354631285941\"),{backgroundColor:\"white\"});\nviewer_1666354631285941.zoomTo();\n\tviewer_1666354631285941.removeAllModels();\n\tviewer_1666354631285941.addModel(\"\\n     RDKit          3D\\n\\n 12 11  0  0  0  0  0  0  0  0999 V2000\\n   -2.6161   -0.8235   -0.0331 C   0  0  0  0  0  0  0  0  0  0  0  0\\n   -1.1715   -1.2298   -0.1598 C   0  0  0  0  0  0  0  0  0  0  0  0\\n   -0.9289   -2.4123   -0.4011 O   0  0  0  0  0  0  0  0  0  0  0  0\\n   -0.2173   -0.2403    0.0168 N   0  0  0  0  0  0  0  0  0  0  0  0\\n    1.5186   -0.6692   -0.0495 Si  0  0  0  0  0  4  0  0  0  0  0  0\\n    2.2120   -0.0851   -1.6663 C   0  0  0  0  0  0  0  0  0  0  0  0\\n    1.8221   -2.4891    0.1111 C   0  0  0  0  0  0  0  0  0  0  0  0\\n    2.4234    0.1467    1.3542 C   0  0  0  0  0  0  0  0  0  0  0  0\\n   -0.6258    1.4883    0.1677 Si  0  0  0  0  0  4  0  0  0  0  0  0\\n   -1.4813    1.7381    1.7928 C   0  0  0  0  0  0  0  0  0  0  0  0\\n   -1.7706    1.9536   -1.2174 C   0  0  0  0  0  0  0  0  0  0  0  0\\n    0.8356    2.6226    0.0847 C   0  0  0  0  0  0  0  0  0  0  0  0\\n  1  2  1  0\\n  2  3  2  0\\n  2  4  1  0\\n  4  5  1  0\\n  5  6  1  0\\n  5  7  1  0\\n  5  8  1  0\\n  4  9  1  0\\n  9 10  1  0\\n  9 11  1  0\\n  9 12  1  0\\nM  END\\n\",\"sdf\");\n\tviewer_1666354631285941.setStyle({\"stick\": {}});\n\tviewer_1666354631285941.setBackgroundColor(\"0xeeeeee\");\n\tviewer_1666354631285941.zoomTo();\nviewer_1666354631285941.render();\n});\n</script>"
     },
     "metadata": {},
     "output_type": "display_data"
    }
   ],
   "source": [
    "draw3d(with_sime2[0][1])"
   ]
  },
  {
   "cell_type": "code",
   "execution_count": 44,
   "metadata": {
    "pycharm": {
     "name": "#%%\n"
    }
   },
   "outputs": [
    {
     "name": "stderr",
     "output_type": "stream",
     "text": [
      "[14:17:32] Molecule does not have explicit Hs. Consider calling AddHs()\n",
      "[14:17:32] Molecule does not have explicit Hs. Consider calling AddHs()\n"
     ]
    },
    {
     "data": {
      "application/3dmoljs_load.v0": "<div id=\"3dmolviewer_166635465252724\"  style=\"position: relative; width: 500px; height: 300px\">\n        <p id=\"3dmolwarning_166635465252724\" style=\"background-color:#ffcccc;color:black\">You appear to be running in JupyterLab (or JavaScript failed to load for some other reason).  You need to install the 3dmol extension: <br>\n        <tt>jupyter labextension install jupyterlab_3dmol</tt></p>\n        </div>\n<script>\n\nvar loadScriptAsync = function(uri){\n  return new Promise((resolve, reject) => {\n    var tag = document.createElement('script');\n    tag.src = uri;\n    tag.async = true;\n    tag.onload = () => {\n      resolve();\n    };\n  var firstScriptTag = document.getElementsByTagName('script')[0];\n  firstScriptTag.parentNode.insertBefore(tag, firstScriptTag);\n});\n};\n\nif(typeof $3Dmolpromise === 'undefined') {\n$3Dmolpromise = null;\n  $3Dmolpromise = loadScriptAsync('https://cdn.jsdelivr.net/npm/3dmol@latest/build/3Dmol-min.min.js');\n}\n\nvar viewer_166635465252724 = null;\nvar warn = document.getElementById(\"3dmolwarning_166635465252724\");\nif(warn) {\n    warn.parentNode.removeChild(warn);\n}\n$3Dmolpromise.then(function() {\nviewer_166635465252724 = $3Dmol.createViewer($(\"#3dmolviewer_166635465252724\"),{backgroundColor:\"white\"});\nviewer_166635465252724.zoomTo();\n\tviewer_166635465252724.removeAllModels();\n\tviewer_166635465252724.addModel(\"\\n     RDKit          3D\\n\\n 12 11  0  0  0  0  0  0  0  0999 V2000\\n    0.5662    2.6737    0.2326 C   0  0  0  0  0  0  0  0  0  0  0  0\\n   -0.3952    1.6353   -0.2828 C   0  0  0  0  0  0  0  0  0  0  0  0\\n   -1.4167    2.0303   -0.8450 O   0  0  0  0  0  0  0  0  0  0  0  0\\n   -0.0519    0.3057   -0.0954 N   0  0  0  0  0  0  0  0  0  0  0  0\\n   -1.1145   -0.9782   -0.7465 Si  0  0  0  0  0  4  0  0  0  0  0  0\\n   -0.0885   -2.2757   -1.5942 C   0  0  0  0  0  0  0  0  0  0  0  0\\n   -2.3211   -0.3517   -2.0041 C   0  0  0  0  0  0  0  0  0  0  0  0\\n   -2.0530   -1.7401    0.6587 C   0  0  0  0  0  0  0  0  0  0  0  0\\n    1.3370   -0.2092    0.8964 Si  0  0  0  0  0  4  0  0  0  0  0  0\\n    1.3932   -2.0289    1.2354 C   0  0  0  0  0  0  0  0  0  0  0  0\\n    2.8899    0.2791    0.0102 C   0  0  0  0  0  0  0  0  0  0  0  0\\n    1.2547    0.6597    2.5346 C   0  0  0  0  0  0  0  0  0  0  0  0\\n  1  2  1  0\\n  2  3  2  0\\n  2  4  1  0\\n  4  5  1  0\\n  5  6  1  0\\n  5  7  1  0\\n  5  8  1  0\\n  4  9  1  0\\n  9 10  1  0\\n  9 11  1  0\\n  9 12  1  0\\nM  END\\n\",\"sdf\");\n\tviewer_166635465252724.setStyle({\"stick\": {}});\n\tviewer_166635465252724.setBackgroundColor(\"0xeeeeee\");\n\tviewer_166635465252724.zoomTo();\nviewer_166635465252724.render();\n});\n</script>",
      "text/html": "<div id=\"3dmolviewer_166635465252724\"  style=\"position: relative; width: 500px; height: 300px\">\n        <p id=\"3dmolwarning_166635465252724\" style=\"background-color:#ffcccc;color:black\">You appear to be running in JupyterLab (or JavaScript failed to load for some other reason).  You need to install the 3dmol extension: <br>\n        <tt>jupyter labextension install jupyterlab_3dmol</tt></p>\n        </div>\n<script>\n\nvar loadScriptAsync = function(uri){\n  return new Promise((resolve, reject) => {\n    var tag = document.createElement('script');\n    tag.src = uri;\n    tag.async = true;\n    tag.onload = () => {\n      resolve();\n    };\n  var firstScriptTag = document.getElementsByTagName('script')[0];\n  firstScriptTag.parentNode.insertBefore(tag, firstScriptTag);\n});\n};\n\nif(typeof $3Dmolpromise === 'undefined') {\n$3Dmolpromise = null;\n  $3Dmolpromise = loadScriptAsync('https://cdn.jsdelivr.net/npm/3dmol@latest/build/3Dmol-min.min.js');\n}\n\nvar viewer_166635465252724 = null;\nvar warn = document.getElementById(\"3dmolwarning_166635465252724\");\nif(warn) {\n    warn.parentNode.removeChild(warn);\n}\n$3Dmolpromise.then(function() {\nviewer_166635465252724 = $3Dmol.createViewer($(\"#3dmolviewer_166635465252724\"),{backgroundColor:\"white\"});\nviewer_166635465252724.zoomTo();\n\tviewer_166635465252724.removeAllModels();\n\tviewer_166635465252724.addModel(\"\\n     RDKit          3D\\n\\n 12 11  0  0  0  0  0  0  0  0999 V2000\\n    0.5662    2.6737    0.2326 C   0  0  0  0  0  0  0  0  0  0  0  0\\n   -0.3952    1.6353   -0.2828 C   0  0  0  0  0  0  0  0  0  0  0  0\\n   -1.4167    2.0303   -0.8450 O   0  0  0  0  0  0  0  0  0  0  0  0\\n   -0.0519    0.3057   -0.0954 N   0  0  0  0  0  0  0  0  0  0  0  0\\n   -1.1145   -0.9782   -0.7465 Si  0  0  0  0  0  4  0  0  0  0  0  0\\n   -0.0885   -2.2757   -1.5942 C   0  0  0  0  0  0  0  0  0  0  0  0\\n   -2.3211   -0.3517   -2.0041 C   0  0  0  0  0  0  0  0  0  0  0  0\\n   -2.0530   -1.7401    0.6587 C   0  0  0  0  0  0  0  0  0  0  0  0\\n    1.3370   -0.2092    0.8964 Si  0  0  0  0  0  4  0  0  0  0  0  0\\n    1.3932   -2.0289    1.2354 C   0  0  0  0  0  0  0  0  0  0  0  0\\n    2.8899    0.2791    0.0102 C   0  0  0  0  0  0  0  0  0  0  0  0\\n    1.2547    0.6597    2.5346 C   0  0  0  0  0  0  0  0  0  0  0  0\\n  1  2  1  0\\n  2  3  2  0\\n  2  4  1  0\\n  4  5  1  0\\n  5  6  1  0\\n  5  7  1  0\\n  5  8  1  0\\n  4  9  1  0\\n  9 10  1  0\\n  9 11  1  0\\n  9 12  1  0\\nM  END\\n\",\"sdf\");\n\tviewer_166635465252724.setStyle({\"stick\": {}});\n\tviewer_166635465252724.setBackgroundColor(\"0xeeeeee\");\n\tviewer_166635465252724.zoomTo();\nviewer_166635465252724.render();\n});\n</script>"
     },
     "metadata": {},
     "output_type": "display_data"
    }
   ],
   "source": [
    "draw3d(with_onssi[0][1])"
   ]
  },
  {
   "cell_type": "code",
   "execution_count": 46,
   "metadata": {
    "pycharm": {
     "name": "#%%\n"
    }
   },
   "outputs": [
    {
     "data": {
      "text/plain": "<rdkit.Chem.rdchem.Mol at 0x151425840>",
      "image/png": "[encoded data removed]"
     },
     "execution_count": 46,
     "metadata": {},
     "output_type": "execute_result"
    }
   ],
   "source": [
    "with_meox[0][1]"
   ]
  },
  {
   "cell_type": "code",
   "execution_count": 21,
   "metadata": {
    "pycharm": {
     "name": "#%%\n"
    }
   },
   "outputs": [],
   "source": [
    "with open('NIST_ONSSiMe3.txt','w') as f:\n",
    "    for m in with_onssi:\n",
    "        f.write(m[0]+'\\n')\n",
    "        \n",
    "with open('NIST_SiMe3.txt','w') as f:\n",
    "    for m in with_sime3:\n",
    "        f.write(m[0]+'\\n')\n",
    "        \n",
    "with open('NIST_MeOX.txt','w') as f:\n",
    "    for m in with_meox:\n",
    "        f.write(m[0]+'\\n')"
   ]
  },
  {
   "cell_type": "code",
   "execution_count": 22,
   "metadata": {
    "pycharm": {
     "name": "#%%\n"
    }
   },
   "outputs": [
    {
     "ename": "IndexError",
     "evalue": "list index out of range",
     "output_type": "error",
     "traceback": [
      "\u001B[0;31m---------------------------------------------------------------------------\u001B[0m",
      "\u001B[0;31mIndexError\u001B[0m                                Traceback (most recent call last)",
      "Cell \u001B[0;32mIn [22], line 4\u001B[0m\n\u001B[1;32m      1\u001B[0m \u001B[38;5;66;03m#test_smi='CCO[Si](C)(C)C'\u001B[39;00m\n\u001B[1;32m      2\u001B[0m \u001B[38;5;66;03m#test_smi='C[Si](C)(C)OCC-N[Si](C)(C)C'\u001B[39;00m\n\u001B[1;32m      3\u001B[0m \u001B[38;5;66;03m#test_m = Chem.MolFromSmiles(test_smi)\u001B[39;00m\n\u001B[0;32m----> 4\u001B[0m test_m \u001B[38;5;241m=\u001B[39m \u001B[43mwith_onssi\u001B[49m\u001B[43m[\u001B[49m\u001B[38;5;241;43m35\u001B[39;49m\u001B[43m]\u001B[49m[\u001B[38;5;241m1\u001B[39m]\n\u001B[1;32m      5\u001B[0m Chem\u001B[38;5;241m.\u001B[39mAddHs(test_m)\n\u001B[1;32m      6\u001B[0m test_m\n",
      "\u001B[0;31mIndexError\u001B[0m: list index out of range"
     ]
    }
   ],
   "source": [
    "#test_smi='CCO[Si](C)(C)C'\n",
    "#test_smi='C[Si](C)(C)OCC-N[Si](C)(C)C'\n",
    "#test_m = Chem.MolFromSmiles(test_smi)\n",
    "test_m = with_onssi[35][1]\n",
    "Chem.AddHs(test_m)\n",
    "test_m"
   ]
  },
  {
   "cell_type": "code",
   "execution_count": null,
   "metadata": {
    "pycharm": {
     "name": "#%%\n"
    }
   },
   "outputs": [],
   "source": [
    "test_n = remove_derivatization_groups(test_m)\n",
    "Chem.AddHs(test_n)"
   ]
  },
  {
   "cell_type": "code",
   "execution_count": null,
   "metadata": {
    "pycharm": {
     "name": "#%%\n"
    }
   },
   "outputs": [],
   "source": [
    "test_d = add_derivatization_groups(test_n)\n",
    "test_d"
   ]
  },
  {
   "cell_type": "code",
   "execution_count": null,
   "metadata": {
    "pycharm": {
     "name": "#%%\n"
    }
   },
   "outputs": [],
   "source": [
    "draw3d(test_d)"
   ]
  },
  {
   "cell_type": "markdown",
   "metadata": {
    "pycharm": {
     "name": "#%% md\n"
    }
   },
   "source": [
    "### Run the in-silico derivatization\n",
    "\n",
    "Iterate over the `mol[]` list (read from file above), remove derivatization groups from each entry, and try derivatization several times to leverage from the probabilistic behaviour). Assemble the results.\n",
    "\n",
    "This can be time consuming, expect about 5,000 entries per minute per core. Memory consumption can also grow to several GB."
   ]
  },
  {
   "cell_type": "code",
   "execution_count": null,
   "metadata": {
    "pycharm": {
     "name": "#%%\n"
    }
   },
   "outputs": [],
   "source": [
    "%%time\n",
    "def process_one_mol(mol):\n",
    "    return (\n",
    "        mol[0],\n",
    "        Chem.MolToSmiles(remove_derivatization_groups(mol[1])),\n",
    "        { Chem.MolToSmiles(add_derivatization_groups(mol[1])) for _ in range(42) }\n",
    "        )\n",
    "        \n",
    "with ProcessPoolExecutor(max_workers=cpus) as executor:\n",
    "    out = executor.map(process_one_mol,mols)\n",
    "    \n",
    "out = list(out)"
   ]
  },
  {
   "cell_type": "markdown",
   "metadata": {
    "pycharm": {
     "name": "#%% md\n"
    }
   },
   "source": [
    "### Write the main outputs"
   ]
  },
  {
   "cell_type": "code",
   "execution_count": null,
   "metadata": {
    "pycharm": {
     "name": "#%%\n"
    }
   },
   "outputs": [],
   "source": [
    "with open('derivs_struct.tsv','w') as tsv:\n",
    "    tsv.write(\"orig\\tderiv. removed\\tderiv. added ...\\n\")\n",
    "    for orig,removed,added in out:\n",
    "        tsv.write(\"\\t\".join([orig,removed,*added]) + \"\\n\")"
   ]
  },
  {
   "cell_type": "code",
   "execution_count": null,
   "metadata": {
    "pycharm": {
     "name": "#%%\n"
    }
   },
   "outputs": [],
   "source": [
    "with open('derivs_flat.txt','w') as flat:\n",
    "    for orig,removed,added in out:\n",
    "        for one in { orig, removed, *added }:\n",
    "            flat.write(one + \"\\n\")"
   ]
  },
  {
   "cell_type": "code",
   "execution_count": null,
   "metadata": {
    "pycharm": {
     "name": "#%%\n"
    }
   },
   "outputs": [],
   "source": []
  }
 ],
 "metadata": {
  "kernelspec": {
   "display_name": "Python 3 (ipykernel)",
   "language": "python",
   "name": "python3"
  },
  "language_info": {
   "codemirror_mode": {
    "name": "ipython",
    "version": 3
   },
   "file_extension": ".py",
   "mimetype": "text/x-python",
   "name": "python",
   "nbconvert_exporter": "python",
   "pygments_lexer": "ipython3",
   "version": "3.10.6"
  },
  "vscode": {
   "interpreter": {
    "hash": "f8c929fcd037834ef32e0d432f6eb299eb751178a7a29a50d579d391b6611298"
   }
  }
 },
 "nbformat": 4,
 "nbformat_minor": 4
}
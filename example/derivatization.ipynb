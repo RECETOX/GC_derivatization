{
 "cells": [
  {
   "cell_type": "markdown",
   "metadata": {},
   "source": [
    "# In-silico derivatization\n",
    "\n",
    "The notebook reads a list of SMILES (text file, one molecule per line), and performs in-silico MeOX + TMS derivatization (as described e.g. in https://doi.org/10.1021/acs.analchem.7b01010):\n",
    "\n",
    "* Metoxymation: ketone R(C=O)R' and aldehyde karboxyl groups are substituted with C=NO[CH3]\n",
    "* Trimethylsilylation: in -OH, -SH, -NH2, -NHR, =NH, the hydrogen is substituted with -SiMe3\n",
    "\n",
    "The probability of all the substitutions can be adjusted, they needn't happen always. Multiple substitution attempts are run on each input molecule, and all distinct results are returned.\n",
    "\n",
    "Known limitation is metoxymation on cycles which should be broken. This is not implemented yet.\n",
    "\n",
    "The final outputs are two files:\n",
    "\n",
    "* `derivs_struct.tsv` with columns (all SMILES):\n",
    "  * original\n",
    "  * with derivatization groups stripped\n",
    "  * column #2 derivatized (multiple times) according to the above rules\n",
    "* `derivs_flat.txt` -- the above with all the smiles flattened, one per line\n",
    "\n"
   ]
  },
  {
   "cell_type": "markdown",
   "metadata": {},
   "source": [
    "### Import what we need and setup the environment"
   ]
  },
  {
   "cell_type": "code",
   "execution_count": 3,
   "metadata": {},
   "outputs": [
    {
     "name": "stdout",
     "output_type": "stream",
     "text": [
      "# cpus (including HT, typically):  8\n",
      "4\n"
     ]
    }
   ],
   "source": [
    "from rdkit import Chem\n",
    "from rdkit.Chem import AllChem\n",
    "#from rdkit.Chem.Draw import IPythonConsole\n",
    "from copy import deepcopy\n",
    "import random\n",
    "\n",
    "#IPythonConsole.drawOptions.addAtomIndices = True\n",
    "#IPythonConsole.molSize = 200,200\n",
    "\n",
    "random.seed(42)\n",
    "\n",
    "import multiprocessing\n",
    "from concurrent.futures import ProcessPoolExecutor\n",
    "cpus = multiprocessing.cpu_count()\n",
    "print('# cpus (including HT, typically): ', cpus)\n",
    "\n",
    "# don't run on HT cores, it just makes congestion\n",
    "cpus //= 2\n",
    "print(cpus)"
   ]
  },
  {
   "cell_type": "code",
   "execution_count": 4,
   "metadata": {},
   "outputs": [],
   "source": [
    "# import our payload\n",
    "from gc_meox_src import is_derivatized, remove_derivatization_groups, add_derivatization_groups"
   ]
  },
  {
   "cell_type": "markdown",
   "metadata": {},
   "source": [
    "### Utility function for 3D rendering"
   ]
  },
  {
   "cell_type": "code",
   "execution_count": 5,
   "metadata": {},
   "outputs": [],
   "source": [
    "import py3Dmol\n",
    "\n",
    "def draw3d(m,dimensions=(500,300),p=None):\n",
    "    AllChem.EmbedMultipleConfs(m, clearConfs=True, numConfs=50)\n",
    "    opt =  AllChem.MMFFOptimizeMoleculeConfs(m)\n",
    "    conf = min(range(len(opt)),key = lambda x: opt[x][1] if opt[x][0] == 0 else float(\"inf\") )\n",
    "    \n",
    "    mb = Chem.MolToMolBlock(m,confId=conf)\n",
    "    if p is None:\n",
    "        p = py3Dmol.view(width=dimensions[0],height=dimensions[1])\n",
    "    p.removeAllModels()\n",
    "    p.addModel(mb,'sdf')\n",
    "    p.setStyle({'stick':{}})\n",
    "    p.setBackgroundColor('0xeeeeee')\n",
    "    p.zoomTo()\n",
    "    return p.show()\n"
   ]
  },
  {
   "cell_type": "markdown",
   "metadata": {},
   "source": [
    "### Simple checks on manual inputs"
   ]
  },
  {
   "cell_type": "code",
   "execution_count": null,
   "metadata": {},
   "outputs": [],
   "source": [
    "for s in ['CCC(=NOC)C', 'CCC=NOC', 'C=NOC', 'CSi(C)(C)C']:\n",
    "    print(s,is_derivatized(smiles='CCC(=NOC)C'))"
   ]
  },
  {
   "cell_type": "code",
   "execution_count": null,
   "metadata": {},
   "outputs": [],
   "source": [
    "remove_derivatization_groups(smiles='CCC(=N)C')"
   ]
  },
  {
   "cell_type": "code",
   "execution_count": null,
   "metadata": {},
   "outputs": [],
   "source": [
    "m=Chem.MolFromSmiles('CCC=NOC')\n",
    "remove_derivatization_groups(m)"
   ]
  },
  {
   "cell_type": "code",
   "execution_count": null,
   "metadata": {},
   "outputs": [],
   "source": [
    "remove_derivatization_groups(smiles='C[Si](C)(C)OCCCO[Si](C)(C)C')"
   ]
  },
  {
   "cell_type": "code",
   "execution_count": null,
   "metadata": {},
   "outputs": [],
   "source": [
    "m=remove_derivatization_groups(smiles='CON=CC(O)C=NOC')\n",
    "m"
   ]
  },
  {
   "cell_type": "code",
   "execution_count": null,
   "metadata": {},
   "outputs": [],
   "source": [
    "add_derivatization_groups(m)"
   ]
  },
  {
   "cell_type": "markdown",
   "metadata": {},
   "source": [
    "### Read the input file\n",
    "\n",
    "The file is parsed line by line, errors are reported and ignored otherwise. \n",
    "\n",
    "The result is `mol[]`, a list of pairs (_original SMILES_, _RDKit molecule_)"
   ]
  },
  {
   "cell_type": "code",
   "execution_count": 8,
   "metadata": {},
   "outputs": [
    {
     "data": {
      "text/plain": [
       "[('CC(=O)N([Si](C)(C)C)[Si](C)(C)C',\n",
       "  <rdkit.Chem.rdchem.Mol at 0x7f0bea017100>),\n",
       " ('C[C@@H]1CO1', <rdkit.Chem.rdchem.Mol at 0x7f0bea0171c0>)]"
      ]
     },
     "execution_count": 8,
     "metadata": {},
     "output_type": "execute_result"
    }
   ],
   "source": [
    "#smi_file='NIST_Si_100.txt'\n",
    "#smi_file='NIST_Si_all.txt'\n",
    "#smi_file='NIST_SMILES.txt'\n",
    "filename = 'NIST_195_200.txt'\n",
    "def read_input_file(filename):\n",
    "    smi_file = filename\n",
    "    with open(smi_file) as f:\n",
    "        mols = list(filter(lambda p: p[1], [ (smi.rstrip(), Chem.MolFromSmiles(smi)) for smi in f ]))\n",
    "        return mols\n",
    "\n",
    "read_input_file(filename)"
   ]
  },
  {
   "cell_type": "markdown",
   "metadata": {},
   "source": [
    "### Essential statistics\n",
    "\n",
    "Count occurrences of (one-),di-,tri-methylsilane, TMS attached to -O, -N, -S, and methoximine. "
   ]
  },
  {
   "cell_type": "code",
   "execution_count": 41,
   "metadata": {},
   "outputs": [
    {
     "name": "stdout",
     "output_type": "stream",
     "text": [
      "# total 2\n",
      "# with SiMe1: 1\n",
      "# with SiMe2: 1\n",
      "# with SiMe3: 1\n",
      "# with ONSSi: 1\n",
      "# with MeOX: 1\n"
     ]
    }
   ],
   "source": [
    "num_of_subs = {\n",
    "    \"SiMe1\" : Chem.MolFromSmarts('[Si][CH3]'),\n",
    "    \"SiMe2\" : Chem.MolFromSmarts('[Si]([CH3])[CH3]'),\n",
    "    \"SiMe3\" : Chem.MolFromSmarts('[Si]([CH3])([CH3])[CH3]'),\n",
    "    \"ONSSi\" : Chem.MolFromSmarts('[O,N,S][Si]([CH3])([CH3])[CH3]'),\n",
    "    \"MeOX\"  : Chem.MolFromSmiles('CC1CO1')\n",
    "}\n",
    "\n",
    "print('# total',len(read_input_file(filename)))\n",
    "\n",
    "with_sime1 = list(filter(lambda m: m[1].HasSubstructMatch(num_of_subs['SiMe1']),read_input_file(filename)))\n",
    "print(\"# with SiMe1:\", len(with_sime1))\n",
    "\n",
    "with_sime2 = list(filter(lambda m: m[1].HasSubstructMatch(num_of_subs['SiMe2']),read_input_file(filename)))\n",
    "print(\"# with SiMe2:\", len(with_sime2))\n",
    "\n",
    "with_sime3 = list(filter(lambda m: m[1].HasSubstructMatch(num_of_subs['SiMe3']),read_input_file(filename)))\n",
    "print(\"# with SiMe3:\", len(with_sime3))\n",
    "\n",
    "with_onssi = list(filter(lambda m: m[1].HasSubstructMatch(num_of_subs['ONSSi']),read_input_file(filename)))\n",
    "print(\"# with ONSSi:\", len(with_onssi))\n",
    "\n",
    "with_meox = list(filter(lambda m: m[1].HasSubstructMatch(num_of_subs['MeOX']),read_input_file(filename)))\n",
    "print(\"# with MeOX:\", len(with_meox))"
   ]
  },
  {
   "cell_type": "markdown",
   "metadata": {},
   "source": [
    "### Inspect whatever from the sorted categories"
   ]
  },
  {
   "cell_type": "code",
   "execution_count": 25,
   "metadata": {},
   "outputs": [
    {
     "data": {
      "image/png": "[encoded data removed]",
      "text/plain": [
       "<rdkit.Chem.rdchem.Mol at 0x7f0be9f67e80>"
      ]
     },
     "execution_count": 25,
     "metadata": {},
     "output_type": "execute_result"
    }
   ],
   "source": [
    "\n",
    "with_sime1[0][1]"
   ]
  },
  {
   "cell_type": "code",
   "execution_count": 30,
   "metadata": {},
   "outputs": [
    {
     "name": "stderr",
     "output_type": "stream",
     "text": [
      "[21:53:02] Molecule does not have explicit Hs. Consider calling AddHs()\n",
      "[21:53:02] Molecule does not have explicit Hs. Consider calling AddHs()\n"
     ]
    },
    {
     "data": {
      "application/3dmoljs_load.v0": "<div id=\"3dmolviewer_16581739825336957\"  style=\"position: relative; width: 500px; height: 300px\">\n        <p id=\"3dmolwarning_16581739825336957\" style=\"background-color:#ffcccc;color:black\">You appear to be running in JupyterLab (or JavaScript failed to load for some other reason).  You need to install the 3dmol extension: <br>\n        <tt>jupyter labextension install jupyterlab_3dmol</tt></p>\n        </div>\n<script>\n\nvar loadScriptAsync = function(uri){\n  return new Promise((resolve, reject) => {\n    var tag = document.createElement('script');\n    tag.src = uri;\n    tag.async = true;\n    tag.onload = () => {\n      resolve();\n    };\n  var firstScriptTag = document.getElementsByTagName('script')[0];\n  firstScriptTag.parentNode.insertBefore(tag, firstScriptTag);\n});\n};\n\nif(typeof $3Dmolpromise === 'undefined') {\n$3Dmolpromise = null;\n  $3Dmolpromise = loadScriptAsync('https://3dmol.org/build/3Dmol.js');\n}\n\nvar viewer_16581739825336957 = null;\nvar warn = document.getElementById(\"3dmolwarning_16581739825336957\");\nif(warn) {\n    warn.parentNode.removeChild(warn);\n}\n$3Dmolpromise.then(function() {\nviewer_16581739825336957 = $3Dmol.createViewer($(\"#3dmolviewer_16581739825336957\"),{backgroundColor:\"white\"});\nviewer_16581739825336957.zoomTo();\n\tviewer_16581739825336957.removeAllModels();\n\tviewer_16581739825336957.addModel(\"\\n     RDKit          3D\\n\\n 12 11  0  0  0  0  0  0  0  0999 V2000\\n   -2.6161   -0.8235   -0.0331 C   0  0  0  0  0  0  0  0  0  0  0  0\\n   -1.1715   -1.2298   -0.1598 C   0  0  0  0  0  0  0  0  0  0  0  0\\n   -0.9289   -2.4123   -0.4011 O   0  0  0  0  0  0  0  0  0  0  0  0\\n   -0.2173   -0.2403    0.0168 N   0  0  0  0  0  0  0  0  0  0  0  0\\n    1.5186   -0.6692   -0.0495 Si  0  0  0  0  0  4  0  0  0  0  0  0\\n    2.2120   -0.0851   -1.6663 C   0  0  0  0  0  0  0  0  0  0  0  0\\n    1.8221   -2.4891    0.1111 C   0  0  0  0  0  0  0  0  0  0  0  0\\n    2.4234    0.1467    1.3542 C   0  0  0  0  0  0  0  0  0  0  0  0\\n   -0.6258    1.4883    0.1677 Si  0  0  0  0  0  4  0  0  0  0  0  0\\n   -1.4813    1.7381    1.7928 C   0  0  0  0  0  0  0  0  0  0  0  0\\n   -1.7706    1.9536   -1.2174 C   0  0  0  0  0  0  0  0  0  0  0  0\\n    0.8356    2.6226    0.0847 C   0  0  0  0  0  0  0  0  0  0  0  0\\n  1  2  1  0\\n  2  3  2  0\\n  2  4  1  0\\n  4  5  1  0\\n  5  6  1  0\\n  5  7  1  0\\n  5  8  1  0\\n  4  9  1  0\\n  9 10  1  0\\n  9 11  1  0\\n  9 12  1  0\\nM  END\\n\",\"sdf\");\n\tviewer_16581739825336957.setStyle({\"stick\": {}});\n\tviewer_16581739825336957.setBackgroundColor(\"0xeeeeee\");\n\tviewer_16581739825336957.zoomTo();\nviewer_16581739825336957.render();\n});\n</script>",
      "text/html": [
       "<div id=\"3dmolviewer_16581739825336957\"  style=\"position: relative; width: 500px; height: 300px\">\n",
       "        <p id=\"3dmolwarning_16581739825336957\" style=\"background-color:#ffcccc;color:black\">You appear to be running in JupyterLab (or JavaScript failed to load for some other reason).  You need to install the 3dmol extension: <br>\n",
       "        <tt>jupyter labextension install jupyterlab_3dmol</tt></p>\n",
       "        </div>\n",
       "<script>\n",
       "\n",
       "var loadScriptAsync = function(uri){\n",
       "  return new Promise((resolve, reject) => {\n",
       "    var tag = document.createElement('script');\n",
       "    tag.src = uri;\n",
       "    tag.async = true;\n",
       "    tag.onload = () => {\n",
       "      resolve();\n",
       "    };\n",
       "  var firstScriptTag = document.getElementsByTagName('script')[0];\n",
       "  firstScriptTag.parentNode.insertBefore(tag, firstScriptTag);\n",
       "});\n",
       "};\n",
       "\n",
       "if(typeof $3Dmolpromise === 'undefined') {\n",
       "$3Dmolpromise = null;\n",
       "  $3Dmolpromise = loadScriptAsync('https://3dmol.org/build/3Dmol.js');\n",
       "}\n",
       "\n",
       "var viewer_16581739825336957 = null;\n",
       "var warn = document.getElementById(\"3dmolwarning_16581739825336957\");\n",
       "if(warn) {\n",
       "    warn.parentNode.removeChild(warn);\n",
       "}\n",
       "$3Dmolpromise.then(function() {\n",
       "viewer_16581739825336957 = $3Dmol.createViewer($(\"#3dmolviewer_16581739825336957\"),{backgroundColor:\"white\"});\n",
       "viewer_16581739825336957.zoomTo();\n",
       "\tviewer_16581739825336957.removeAllModels();\n",
       "\tviewer_16581739825336957.addModel(\"\\n     RDKit          3D\\n\\n 12 11  0  0  0  0  0  0  0  0999 V2000\\n   -2.6161   -0.8235   -0.0331 C   0  0  0  0  0  0  0  0  0  0  0  0\\n   -1.1715   -1.2298   -0.1598 C   0  0  0  0  0  0  0  0  0  0  0  0\\n   -0.9289   -2.4123   -0.4011 O   0  0  0  0  0  0  0  0  0  0  0  0\\n   -0.2173   -0.2403    0.0168 N   0  0  0  0  0  0  0  0  0  0  0  0\\n    1.5186   -0.6692   -0.0495 Si  0  0  0  0  0  4  0  0  0  0  0  0\\n    2.2120   -0.0851   -1.6663 C   0  0  0  0  0  0  0  0  0  0  0  0\\n    1.8221   -2.4891    0.1111 C   0  0  0  0  0  0  0  0  0  0  0  0\\n    2.4234    0.1467    1.3542 C   0  0  0  0  0  0  0  0  0  0  0  0\\n   -0.6258    1.4883    0.1677 Si  0  0  0  0  0  4  0  0  0  0  0  0\\n   -1.4813    1.7381    1.7928 C   0  0  0  0  0  0  0  0  0  0  0  0\\n   -1.7706    1.9536   -1.2174 C   0  0  0  0  0  0  0  0  0  0  0  0\\n    0.8356    2.6226    0.0847 C   0  0  0  0  0  0  0  0  0  0  0  0\\n  1  2  1  0\\n  2  3  2  0\\n  2  4  1  0\\n  4  5  1  0\\n  5  6  1  0\\n  5  7  1  0\\n  5  8  1  0\\n  4  9  1  0\\n  9 10  1  0\\n  9 11  1  0\\n  9 12  1  0\\nM  END\\n\",\"sdf\");\n",
       "\tviewer_16581739825336957.setStyle({\"stick\": {}});\n",
       "\tviewer_16581739825336957.setBackgroundColor(\"0xeeeeee\");\n",
       "\tviewer_16581739825336957.zoomTo();\n",
       "viewer_16581739825336957.render();\n",
       "});\n",
       "</script>"
      ]
     },
     "metadata": {},
     "output_type": "display_data"
    }
   ],
   "source": [
    "draw3d(with_sime3[0][1])"
   ]
  },
  {
   "cell_type": "code",
   "execution_count": 31,
   "metadata": {},
   "outputs": [
    {
     "name": "stderr",
     "output_type": "stream",
     "text": [
      "[21:53:09] Molecule does not have explicit Hs. Consider calling AddHs()\n",
      "[21:53:09] Molecule does not have explicit Hs. Consider calling AddHs()\n"
     ]
    },
    {
     "data": {
      "application/3dmoljs_load.v0": "<div id=\"3dmolviewer_16581739898349621\"  style=\"position: relative; width: 500px; height: 300px\">\n        <p id=\"3dmolwarning_16581739898349621\" style=\"background-color:#ffcccc;color:black\">You appear to be running in JupyterLab (or JavaScript failed to load for some other reason).  You need to install the 3dmol extension: <br>\n        <tt>jupyter labextension install jupyterlab_3dmol</tt></p>\n        </div>\n<script>\n\nvar loadScriptAsync = function(uri){\n  return new Promise((resolve, reject) => {\n    var tag = document.createElement('script');\n    tag.src = uri;\n    tag.async = true;\n    tag.onload = () => {\n      resolve();\n    };\n  var firstScriptTag = document.getElementsByTagName('script')[0];\n  firstScriptTag.parentNode.insertBefore(tag, firstScriptTag);\n});\n};\n\nif(typeof $3Dmolpromise === 'undefined') {\n$3Dmolpromise = null;\n  $3Dmolpromise = loadScriptAsync('https://3dmol.org/build/3Dmol.js');\n}\n\nvar viewer_16581739898349621 = null;\nvar warn = document.getElementById(\"3dmolwarning_16581739898349621\");\nif(warn) {\n    warn.parentNode.removeChild(warn);\n}\n$3Dmolpromise.then(function() {\nviewer_16581739898349621 = $3Dmol.createViewer($(\"#3dmolviewer_16581739898349621\"),{backgroundColor:\"white\"});\nviewer_16581739898349621.zoomTo();\n\tviewer_16581739898349621.removeAllModels();\n\tviewer_16581739898349621.addModel(\"\\n     RDKit          3D\\n\\n 12 11  0  0  0  0  0  0  0  0999 V2000\\n    0.5662    2.6737    0.2326 C   0  0  0  0  0  0  0  0  0  0  0  0\\n   -0.3952    1.6353   -0.2828 C   0  0  0  0  0  0  0  0  0  0  0  0\\n   -1.4167    2.0303   -0.8450 O   0  0  0  0  0  0  0  0  0  0  0  0\\n   -0.0519    0.3057   -0.0954 N   0  0  0  0  0  0  0  0  0  0  0  0\\n   -1.1145   -0.9782   -0.7465 Si  0  0  0  0  0  4  0  0  0  0  0  0\\n   -0.0885   -2.2757   -1.5942 C   0  0  0  0  0  0  0  0  0  0  0  0\\n   -2.3211   -0.3517   -2.0041 C   0  0  0  0  0  0  0  0  0  0  0  0\\n   -2.0530   -1.7401    0.6587 C   0  0  0  0  0  0  0  0  0  0  0  0\\n    1.3370   -0.2092    0.8964 Si  0  0  0  0  0  4  0  0  0  0  0  0\\n    1.3932   -2.0289    1.2354 C   0  0  0  0  0  0  0  0  0  0  0  0\\n    2.8899    0.2791    0.0102 C   0  0  0  0  0  0  0  0  0  0  0  0\\n    1.2547    0.6597    2.5346 C   0  0  0  0  0  0  0  0  0  0  0  0\\n  1  2  1  0\\n  2  3  2  0\\n  2  4  1  0\\n  4  5  1  0\\n  5  6  1  0\\n  5  7  1  0\\n  5  8  1  0\\n  4  9  1  0\\n  9 10  1  0\\n  9 11  1  0\\n  9 12  1  0\\nM  END\\n\",\"sdf\");\n\tviewer_16581739898349621.setStyle({\"stick\": {}});\n\tviewer_16581739898349621.setBackgroundColor(\"0xeeeeee\");\n\tviewer_16581739898349621.zoomTo();\nviewer_16581739898349621.render();\n});\n</script>",
      "text/html": [
       "<div id=\"3dmolviewer_16581739898349621\"  style=\"position: relative; width: 500px; height: 300px\">\n",
       "        <p id=\"3dmolwarning_16581739898349621\" style=\"background-color:#ffcccc;color:black\">You appear to be running in JupyterLab (or JavaScript failed to load for some other reason).  You need to install the 3dmol extension: <br>\n",
       "        <tt>jupyter labextension install jupyterlab_3dmol</tt></p>\n",
       "        </div>\n",
       "<script>\n",
       "\n",
       "var loadScriptAsync = function(uri){\n",
       "  return new Promise((resolve, reject) => {\n",
       "    var tag = document.createElement('script');\n",
       "    tag.src = uri;\n",
       "    tag.async = true;\n",
       "    tag.onload = () => {\n",
       "      resolve();\n",
       "    };\n",
       "  var firstScriptTag = document.getElementsByTagName('script')[0];\n",
       "  firstScriptTag.parentNode.insertBefore(tag, firstScriptTag);\n",
       "});\n",
       "};\n",
       "\n",
       "if(typeof $3Dmolpromise === 'undefined') {\n",
       "$3Dmolpromise = null;\n",
       "  $3Dmolpromise = loadScriptAsync('https://3dmol.org/build/3Dmol.js');\n",
       "}\n",
       "\n",
       "var viewer_16581739898349621 = null;\n",
       "var warn = document.getElementById(\"3dmolwarning_16581739898349621\");\n",
       "if(warn) {\n",
       "    warn.parentNode.removeChild(warn);\n",
       "}\n",
       "$3Dmolpromise.then(function() {\n",
       "viewer_16581739898349621 = $3Dmol.createViewer($(\"#3dmolviewer_16581739898349621\"),{backgroundColor:\"white\"});\n",
       "viewer_16581739898349621.zoomTo();\n",
       "\tviewer_16581739898349621.removeAllModels();\n",
       "\tviewer_16581739898349621.addModel(\"\\n     RDKit          3D\\n\\n 12 11  0  0  0  0  0  0  0  0999 V2000\\n    0.5662    2.6737    0.2326 C   0  0  0  0  0  0  0  0  0  0  0  0\\n   -0.3952    1.6353   -0.2828 C   0  0  0  0  0  0  0  0  0  0  0  0\\n   -1.4167    2.0303   -0.8450 O   0  0  0  0  0  0  0  0  0  0  0  0\\n   -0.0519    0.3057   -0.0954 N   0  0  0  0  0  0  0  0  0  0  0  0\\n   -1.1145   -0.9782   -0.7465 Si  0  0  0  0  0  4  0  0  0  0  0  0\\n   -0.0885   -2.2757   -1.5942 C   0  0  0  0  0  0  0  0  0  0  0  0\\n   -2.3211   -0.3517   -2.0041 C   0  0  0  0  0  0  0  0  0  0  0  0\\n   -2.0530   -1.7401    0.6587 C   0  0  0  0  0  0  0  0  0  0  0  0\\n    1.3370   -0.2092    0.8964 Si  0  0  0  0  0  4  0  0  0  0  0  0\\n    1.3932   -2.0289    1.2354 C   0  0  0  0  0  0  0  0  0  0  0  0\\n    2.8899    0.2791    0.0102 C   0  0  0  0  0  0  0  0  0  0  0  0\\n    1.2547    0.6597    2.5346 C   0  0  0  0  0  0  0  0  0  0  0  0\\n  1  2  1  0\\n  2  3  2  0\\n  2  4  1  0\\n  4  5  1  0\\n  5  6  1  0\\n  5  7  1  0\\n  5  8  1  0\\n  4  9  1  0\\n  9 10  1  0\\n  9 11  1  0\\n  9 12  1  0\\nM  END\\n\",\"sdf\");\n",
       "\tviewer_16581739898349621.setStyle({\"stick\": {}});\n",
       "\tviewer_16581739898349621.setBackgroundColor(\"0xeeeeee\");\n",
       "\tviewer_16581739898349621.zoomTo();\n",
       "viewer_16581739898349621.render();\n",
       "});\n",
       "</script>"
      ]
     },
     "metadata": {},
     "output_type": "display_data"
    }
   ],
   "source": [
    "draw3d(with_onssi[0][1])"
   ]
  },
  {
   "cell_type": "code",
   "execution_count": 32,
   "metadata": {},
   "outputs": [
    {
     "data": {
      "image/png": "[encoded data removed]",
      "text/plain": [
       "<rdkit.Chem.rdchem.Mol at 0x7f0be9f70be0>"
      ]
     },
     "execution_count": 32,
     "metadata": {},
     "output_type": "execute_result"
    }
   ],
   "source": [
    "with_meox[0][1]\n"
   ]
  },
  {
   "cell_type": "code",
   "execution_count": 33,
   "metadata": {},
   "outputs": [
    {
     "name": "stderr",
     "output_type": "stream",
     "text": [
      "[21:53:22] Molecule does not have explicit Hs. Consider calling AddHs()\n",
      "[21:53:22] Molecule does not have explicit Hs. Consider calling AddHs()\n"
     ]
    },
    {
     "ename": "ValueError",
     "evalue": "Bad Conformer Id",
     "output_type": "error",
     "traceback": [
      "\u001b[0;31m---------------------------------------------------------------------------\u001b[0m",
      "\u001b[0;31mValueError\u001b[0m                                Traceback (most recent call last)",
      "\u001b[1;32m/home/wrojas/dev/Mytools/Galaxy-tools-recetox/gc_derivatization/example/derivatization.ipynb Cell 23\u001b[0m in \u001b[0;36m<cell line: 1>\u001b[0;34m()\u001b[0m\n\u001b[0;32m----> <a href='vscode-notebook-cell://wsl%2Bubuntu-20.04/home/wrojas/dev/Mytools/Galaxy-tools-recetox/gc_derivatization/example/derivatization.ipynb#ch0000022vscode-remote?line=0'>1</a>\u001b[0m draw3d(with_meox[\u001b[39m0\u001b[39;49m][\u001b[39m1\u001b[39;49m])\n",
      "\u001b[1;32m/home/wrojas/dev/Mytools/Galaxy-tools-recetox/gc_derivatization/example/derivatization.ipynb Cell 23\u001b[0m in \u001b[0;36mdraw3d\u001b[0;34m(m, dimensions, p)\u001b[0m\n\u001b[1;32m      <a href='vscode-notebook-cell://wsl%2Bubuntu-20.04/home/wrojas/dev/Mytools/Galaxy-tools-recetox/gc_derivatization/example/derivatization.ipynb#ch0000022vscode-remote?line=2'>3</a>\u001b[0m \u001b[39mdef\u001b[39;00m \u001b[39mdraw3d\u001b[39m(m,dimensions\u001b[39m=\u001b[39m(\u001b[39m500\u001b[39m,\u001b[39m300\u001b[39m),p\u001b[39m=\u001b[39m\u001b[39mNone\u001b[39;00m):\n\u001b[1;32m      <a href='vscode-notebook-cell://wsl%2Bubuntu-20.04/home/wrojas/dev/Mytools/Galaxy-tools-recetox/gc_derivatization/example/derivatization.ipynb#ch0000022vscode-remote?line=3'>4</a>\u001b[0m     AllChem\u001b[39m.\u001b[39mEmbedMultipleConfs(m, clearConfs\u001b[39m=\u001b[39m\u001b[39mTrue\u001b[39;00m, numConfs\u001b[39m=\u001b[39m\u001b[39m50\u001b[39m)\n\u001b[0;32m----> <a href='vscode-notebook-cell://wsl%2Bubuntu-20.04/home/wrojas/dev/Mytools/Galaxy-tools-recetox/gc_derivatization/example/derivatization.ipynb#ch0000022vscode-remote?line=4'>5</a>\u001b[0m     opt \u001b[39m=\u001b[39m  AllChem\u001b[39m.\u001b[39;49mMMFFOptimizeMoleculeConfs(m)\n\u001b[1;32m      <a href='vscode-notebook-cell://wsl%2Bubuntu-20.04/home/wrojas/dev/Mytools/Galaxy-tools-recetox/gc_derivatization/example/derivatization.ipynb#ch0000022vscode-remote?line=5'>6</a>\u001b[0m     conf \u001b[39m=\u001b[39m \u001b[39mmin\u001b[39m(\u001b[39mrange\u001b[39m(\u001b[39mlen\u001b[39m(opt)),key \u001b[39m=\u001b[39m \u001b[39mlambda\u001b[39;00m x: opt[x][\u001b[39m1\u001b[39m] \u001b[39mif\u001b[39;00m opt[x][\u001b[39m0\u001b[39m] \u001b[39m==\u001b[39m \u001b[39m0\u001b[39m \u001b[39melse\u001b[39;00m \u001b[39mfloat\u001b[39m(\u001b[39m\"\u001b[39m\u001b[39minf\u001b[39m\u001b[39m\"\u001b[39m) )\n\u001b[1;32m      <a href='vscode-notebook-cell://wsl%2Bubuntu-20.04/home/wrojas/dev/Mytools/Galaxy-tools-recetox/gc_derivatization/example/derivatization.ipynb#ch0000022vscode-remote?line=7'>8</a>\u001b[0m     mb \u001b[39m=\u001b[39m Chem\u001b[39m.\u001b[39mMolToMolBlock(m,confId\u001b[39m=\u001b[39mconf)\n",
      "\u001b[0;31mValueError\u001b[0m: Bad Conformer Id"
     ]
    }
   ],
   "source": [
    "draw3d(with_meox[0][1])"
   ]
  },
  {
   "cell_type": "code",
   "execution_count": 34,
   "metadata": {},
   "outputs": [],
   "source": [
    "with open('NIST_ONSSiMe3.txt','w') as f:\n",
    "    for m in with_onssi:\n",
    "        f.write(m[0]+'\\n')\n",
    "        \n",
    "with open('NIST_SiMe3.txt','w') as f:\n",
    "    for m in with_sime3:\n",
    "        f.write(m[0]+'\\n')\n",
    "        \n",
    "with open('NIST_MeOX.txt','w') as f:\n",
    "    for m in with_meox:\n",
    "        f.write(m[0]+'\\n')"
   ]
  },
  {
   "cell_type": "code",
   "execution_count": 36,
   "metadata": {},
   "outputs": [
    {
     "data": {
      "image/png": "[encoded data removed]",
      "text/plain": [
       "<rdkit.Chem.rdchem.Mol at 0x7f0bea00f760>"
      ]
     },
     "execution_count": 36,
     "metadata": {},
     "output_type": "execute_result"
    }
   ],
   "source": [
    "#test_smi='CCO[Si](C)(C)C'\n",
    "#test_smi='C[Si](C)(C)OCC-N[Si](C)(C)C'\n",
    "#test_m = Chem.MolFromSmiles(test_smi)\n",
    "test_m = with_onssi[0][1]\n",
    "Chem.AddHs(test_m)\n",
    "test_m"
   ]
  },
  {
   "cell_type": "code",
   "execution_count": 37,
   "metadata": {},
   "outputs": [
    {
     "data": {
      "image/png": "[encoded data removed]",
      "text/plain": [
       "<rdkit.Chem.rdchem.Mol at 0x7f0be9f704c0>"
      ]
     },
     "execution_count": 37,
     "metadata": {},
     "output_type": "execute_result"
    }
   ],
   "source": [
    "test_n = remove_derivatization_groups(test_m)\n",
    "Chem.AddHs(test_n)"
   ]
  },
  {
   "cell_type": "code",
   "execution_count": 38,
   "metadata": {},
   "outputs": [
    {
     "data": {
      "image/png": "[encoded data removed]",
      "text/plain": [
       "<rdkit.Chem.rdchem.Mol at 0x7f0be9f4f970>"
      ]
     },
     "execution_count": 38,
     "metadata": {},
     "output_type": "execute_result"
    }
   ],
   "source": [
    "test_d = add_derivatization_groups(test_n)\n",
    "test_d"
   ]
  },
  {
   "cell_type": "code",
   "execution_count": 39,
   "metadata": {},
   "outputs": [
    {
     "name": "stderr",
     "output_type": "stream",
     "text": [
      "[21:56:53] Molecule does not have explicit Hs. Consider calling AddHs()\n",
      "[21:56:53] Molecule does not have explicit Hs. Consider calling AddHs()\n"
     ]
    },
    {
     "data": {
      "application/3dmoljs_load.v0": "<div id=\"3dmolviewer_16581742134543843\"  style=\"position: relative; width: 500px; height: 300px\">\n        <p id=\"3dmolwarning_16581742134543843\" style=\"background-color:#ffcccc;color:black\">You appear to be running in JupyterLab (or JavaScript failed to load for some other reason).  You need to install the 3dmol extension: <br>\n        <tt>jupyter labextension install jupyterlab_3dmol</tt></p>\n        </div>\n<script>\n\nvar loadScriptAsync = function(uri){\n  return new Promise((resolve, reject) => {\n    var tag = document.createElement('script');\n    tag.src = uri;\n    tag.async = true;\n    tag.onload = () => {\n      resolve();\n    };\n  var firstScriptTag = document.getElementsByTagName('script')[0];\n  firstScriptTag.parentNode.insertBefore(tag, firstScriptTag);\n});\n};\n\nif(typeof $3Dmolpromise === 'undefined') {\n$3Dmolpromise = null;\n  $3Dmolpromise = loadScriptAsync('https://3dmol.org/build/3Dmol.js');\n}\n\nvar viewer_16581742134543843 = null;\nvar warn = document.getElementById(\"3dmolwarning_16581742134543843\");\nif(warn) {\n    warn.parentNode.removeChild(warn);\n}\n$3Dmolpromise.then(function() {\nviewer_16581742134543843 = $3Dmol.createViewer($(\"#3dmolviewer_16581742134543843\"),{backgroundColor:\"white\"});\nviewer_16581742134543843.zoomTo();\n\tviewer_16581742134543843.removeAllModels();\n\tviewer_16581742134543843.addModel(\"\\n     RDKit          3D\\n\\n  4  3  0  0  0  0  0  0  0  0999 V2000\\n    1.2988   -0.5553    0.0636 C   0  0  0  0  0  0  0  0  0  0  0  0\\n   -0.0461    0.0920   -0.0074 C   0  0  0  0  0  0  0  0  0  0  0  0\\n   -0.1995    1.3043   -0.0959 O   0  0  0  0  0  0  0  0  0  0  0  0\\n   -1.0532   -0.8410    0.0396 N   0  0  0  0  0  0  0  0  0  0  0  0\\n  1  2  1  0\\n  2  3  2  0\\n  2  4  1  0\\nM  END\\n\",\"sdf\");\n\tviewer_16581742134543843.setStyle({\"stick\": {}});\n\tviewer_16581742134543843.setBackgroundColor(\"0xeeeeee\");\n\tviewer_16581742134543843.zoomTo();\nviewer_16581742134543843.render();\n});\n</script>",
      "text/html": [
       "<div id=\"3dmolviewer_16581742134543843\"  style=\"position: relative; width: 500px; height: 300px\">\n",
       "        <p id=\"3dmolwarning_16581742134543843\" style=\"background-color:#ffcccc;color:black\">You appear to be running in JupyterLab (or JavaScript failed to load for some other reason).  You need to install the 3dmol extension: <br>\n",
       "        <tt>jupyter labextension install jupyterlab_3dmol</tt></p>\n",
       "        </div>\n",
       "<script>\n",
       "\n",
       "var loadScriptAsync = function(uri){\n",
       "  return new Promise((resolve, reject) => {\n",
       "    var tag = document.createElement('script');\n",
       "    tag.src = uri;\n",
       "    tag.async = true;\n",
       "    tag.onload = () => {\n",
       "      resolve();\n",
       "    };\n",
       "  var firstScriptTag = document.getElementsByTagName('script')[0];\n",
       "  firstScriptTag.parentNode.insertBefore(tag, firstScriptTag);\n",
       "});\n",
       "};\n",
       "\n",
       "if(typeof $3Dmolpromise === 'undefined') {\n",
       "$3Dmolpromise = null;\n",
       "  $3Dmolpromise = loadScriptAsync('https://3dmol.org/build/3Dmol.js');\n",
       "}\n",
       "\n",
       "var viewer_16581742134543843 = null;\n",
       "var warn = document.getElementById(\"3dmolwarning_16581742134543843\");\n",
       "if(warn) {\n",
       "    warn.parentNode.removeChild(warn);\n",
       "}\n",
       "$3Dmolpromise.then(function() {\n",
       "viewer_16581742134543843 = $3Dmol.createViewer($(\"#3dmolviewer_16581742134543843\"),{backgroundColor:\"white\"});\n",
       "viewer_16581742134543843.zoomTo();\n",
       "\tviewer_16581742134543843.removeAllModels();\n",
       "\tviewer_16581742134543843.addModel(\"\\n     RDKit          3D\\n\\n  4  3  0  0  0  0  0  0  0  0999 V2000\\n    1.2988   -0.5553    0.0636 C   0  0  0  0  0  0  0  0  0  0  0  0\\n   -0.0461    0.0920   -0.0074 C   0  0  0  0  0  0  0  0  0  0  0  0\\n   -0.1995    1.3043   -0.0959 O   0  0  0  0  0  0  0  0  0  0  0  0\\n   -1.0532   -0.8410    0.0396 N   0  0  0  0  0  0  0  0  0  0  0  0\\n  1  2  1  0\\n  2  3  2  0\\n  2  4  1  0\\nM  END\\n\",\"sdf\");\n",
       "\tviewer_16581742134543843.setStyle({\"stick\": {}});\n",
       "\tviewer_16581742134543843.setBackgroundColor(\"0xeeeeee\");\n",
       "\tviewer_16581742134543843.zoomTo();\n",
       "viewer_16581742134543843.render();\n",
       "});\n",
       "</script>"
      ]
     },
     "metadata": {},
     "output_type": "display_data"
    }
   ],
   "source": [
    "draw3d(test_d)"
   ]
  },
  {
   "cell_type": "markdown",
   "metadata": {},
   "source": [
    "### Run the in-silico derivatization\n",
    "\n",
    "Iterate over the `mol[]` list (read from file above), remove derivatization groups from each entry, and try derivatization several times to leverage from the probabilistic behaviour). Assemble the results.\n",
    "\n",
    "This can be time consuming, expect about 5,000 entries per minute per core. Memory consumption can also grow to several GB."
   ]
  },
  {
   "cell_type": "code",
   "execution_count": null,
   "metadata": {},
   "outputs": [],
   "source": [
    "%%time\n",
    "def process_one_mol(mol):\n",
    "    return (\n",
    "        mol[0],\n",
    "        Chem.MolToSmiles(remove_derivatization_groups(mol[1])),\n",
    "        { Chem.MolToSmiles(add_derivatization_groups(mol[1])) for _ in range(42) }\n",
    "        )\n",
    "\n",
    "def num_cpu():\n",
    "    random.seed(42)\n",
    "    cpus = multiprocessing.cpu_count()\n",
    "    print('# cpus (including HT, typically): ', cpus)\n",
    "    cpus //= 2\n",
    "            \n",
    "def process_pool_exe(filename):\n",
    "    with ProcessPoolExecutor(max_workers=num_cpu()) as executor:\n",
    "        out = executor.map(process_one_mol,read_input_file(filename))\n",
    "        return out\n",
    "    \n",
    "type(out)"
   ]
  },
  {
   "cell_type": "markdown",
   "metadata": {},
   "source": [
    "### Write the main outputs"
   ]
  },
  {
   "cell_type": "code",
   "execution_count": null,
   "metadata": {},
   "outputs": [],
   "source": [
    "with open('derivs_struct.tsv','w') as tsv:\n",
    "    tsv.write(\"orig\\tderiv. removed\\tderiv. added ...\\n\")\n",
    "    for orig,removed,added in process_pool_exe(filename):\n",
    "        tsv.write(\"\\t\".join([orig,removed,*added]) + \"\\n\")"
   ]
  },
  {
   "cell_type": "code",
   "execution_count": null,
   "metadata": {},
   "outputs": [],
   "source": [
    "with open('derivs_flat.txt','w') as flat:\n",
    "    for orig,removed,added in out:\n",
    "        for one in { orig, removed, *added }:\n",
    "            flat.write(one + \"\\n\")"
   ]
  }
 ],
 "metadata": {
  "kernelspec": {
   "display_name": "Python 3.8.10 ('derivatization_env')",
   "language": "python",
   "name": "python3"
  },
  "language_info": {
   "codemirror_mode": {
    "name": "ipython",
    "version": 3
   },
   "file_extension": ".py",
   "mimetype": "text/x-python",
   "name": "python",
   "nbconvert_exporter": "python",
   "pygments_lexer": "ipython3",
   "version": "3.8.10"
  },
  "vscode": {
   "interpreter": {
    "hash": "baa759d3e34f023db72b5e83a67461e51e73de1d46e84f5abc7d3932f90a2114"
   }
  }
 },
 "nbformat": 4,
 "nbformat_minor": 4
}
